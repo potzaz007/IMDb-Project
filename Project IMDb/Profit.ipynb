{
 "cells": [
  {
   "cell_type": "code",
   "execution_count": 1,
   "outputs": [
    {
     "data": {
      "text/plain": "      imdb_title_id                                              title  \\\n0         tt0000574                        The Story of the Kelly Gang   \n1         tt0001892                                     Den sorte drøm   \n2         tt0002101                                          Cleopatra   \n3         tt0002130                                          L'Inferno   \n4         tt0002199  From the Manger to the Cross; or, Jesus of Naz...   \n...             ...                                                ...   \n81268     tt9903716                                             Jessie   \n81269     tt9905412                                              Ottam   \n81270     tt9905462                                          Pengalila   \n81271     tt9911774                          Padmavyuhathile Abhimanyu   \n81272     tt9914286                                  Sokagin Çocuklari   \n\n                                          original_title  year date_published  \\\n0                            The Story of the Kelly Gang  1906     1906-12-26   \n1                                         Den sorte drøm  1911     1911-08-19   \n2                                              Cleopatra  1912     1912-11-13   \n3                                              L'Inferno  1911     1911-03-06   \n4      From the Manger to the Cross; or, Jesus of Naz...  1912           1913   \n...                                                  ...   ...            ...   \n81268                                             Jessie  2019     2019-03-15   \n81269                                              Ottam  2019     2019-03-08   \n81270                                          Pengalila  2019     2019-03-08   \n81271                          Padmavyuhathile Abhimanyu  2019     2019-03-08   \n81272                                  Sokagin Çocuklari  2019     2019-03-15   \n\n                           genre  duration           country   language  \\\n0        Biography, Crime, Drama        70         Australia        NaN   \n1                          Drama        53  Germany, Denmark        NaN   \n2                 Drama, History       100               USA    English   \n3      Adventure, Drama, Fantasy        68             Italy    Italian   \n4               Biography, Drama        60               USA    English   \n...                          ...       ...               ...        ...   \n81268           Horror, Thriller       106             India     Telugu   \n81269                      Drama       120             India  Malayalam   \n81270                      Drama       111             India  Malayalam   \n81271                      Drama       130             India  Malayalam   \n81272              Drama, Family        98            Turkey    Turkish   \n\n                                  director  ...  \\\n0                             Charles Tait  ...   \n1                                Urban Gad  ...   \n2                       Charles L. Gaskill  ...   \n3      Francesco Bertolini, Adolfo Padovan  ...   \n4                            Sidney Olcott  ...   \n...                                    ...  ...   \n81268                      Aswani Kumar V.  ...   \n81269                                  Zam  ...   \n81270                        T.V. Chandran  ...   \n81271                      Vineesh Aaradya  ...   \n81272                    Ahmet Faik Akinci  ...   \n\n                                                  actors  \\\n0      Elizabeth Tait, John Tait, Norman Campbell, Be...   \n1      Asta Nielsen, Valdemar Psilander, Gunnar Helse...   \n2      Helen Gardner, Pearl Sindelar, Miss Fielding, ...   \n3      Salvatore Papa, Arturo Pirovano, Giuseppe de L...   \n4      R. Henderson Bland, Percy Dyer, Gene Gauntier,...   \n...                                                  ...   \n81268  Sritha Chandana, Pavani Gangireddy, Abhinav Go...   \n81269  Nandu Anand, Roshan Ullas, Manikandan R. Achar...   \n81270  Lal, Akshara Kishor, Iniya, Narain, Renji Pani...   \n81271  Anoop Chandran, Indrans, Sona Nair, Simon Brit...   \n81272  Ahmet Faik Akinci, Belma Mamati, Metin Keçeci,...   \n\n                                             description avg_vote votes  \\\n0      True story of notorious Australian outlaw Ned ...      6.1   537   \n1      Two men of high rank are both wooing the beaut...      5.9   171   \n2      The fabled queen of Egypt's affair with Roman ...      5.2   420   \n3      Loosely adapted from Dante's Divine Comedy and...      7.0  2019   \n4      An account of the life of Jesus Christ, based ...      5.7   438   \n...                                                  ...      ...   ...   \n81268  Set in an abandoned house, the film follows a ...      7.2   219   \n81269  Set in Trivandrum, the story of Ottam unfolds ...      7.8   510   \n81270  An unusual bond between a sixty year old Dalit...      8.4   604   \n81271                                                NaN      8.4   369   \n81272                                                NaN      7.2   190   \n\n             budget  usa_gross_income worlwide_gross_income metascore  \\\n0            $ 2250               NaN                   NaN       NaN   \n1               NaN               NaN                   NaN       NaN   \n2           $ 45000               NaN                   NaN       NaN   \n3               NaN               NaN                   NaN       NaN   \n4               NaN               NaN                   NaN       NaN   \n...             ...               ...                   ...       ...   \n81268           NaN               NaN                   NaN       NaN   \n81269   INR 4000000               NaN                $ 4791       NaN   \n81270  INR 10000000               NaN                   NaN       NaN   \n81271           NaN               NaN                   NaN       NaN   \n81272           NaN               NaN                $ 2833       NaN   \n\n      reviews_from_users  reviews_from_critics  \n0                    7.0                   7.0  \n1                    4.0                   2.0  \n2                   24.0                   3.0  \n3                   28.0                  14.0  \n4                   12.0                   5.0  \n...                  ...                   ...  \n81268               21.0                   NaN  \n81269                NaN                   NaN  \n81270                NaN                   NaN  \n81271                NaN                   NaN  \n81272                NaN                   NaN  \n\n[81273 rows x 22 columns]",
      "text/html": "<div>\n<style scoped>\n    .dataframe tbody tr th:only-of-type {\n        vertical-align: middle;\n    }\n\n    .dataframe tbody tr th {\n        vertical-align: top;\n    }\n\n    .dataframe thead th {\n        text-align: right;\n    }\n</style>\n<table border=\"1\" class=\"dataframe\">\n  <thead>\n    <tr style=\"text-align: right;\">\n      <th></th>\n      <th>imdb_title_id</th>\n      <th>title</th>\n      <th>original_title</th>\n      <th>year</th>\n      <th>date_published</th>\n      <th>genre</th>\n      <th>duration</th>\n      <th>country</th>\n      <th>language</th>\n      <th>director</th>\n      <th>...</th>\n      <th>actors</th>\n      <th>description</th>\n      <th>avg_vote</th>\n      <th>votes</th>\n      <th>budget</th>\n      <th>usa_gross_income</th>\n      <th>worlwide_gross_income</th>\n      <th>metascore</th>\n      <th>reviews_from_users</th>\n      <th>reviews_from_critics</th>\n    </tr>\n  </thead>\n  <tbody>\n    <tr>\n      <th>0</th>\n      <td>tt0000574</td>\n      <td>The Story of the Kelly Gang</td>\n      <td>The Story of the Kelly Gang</td>\n      <td>1906</td>\n      <td>1906-12-26</td>\n      <td>Biography, Crime, Drama</td>\n      <td>70</td>\n      <td>Australia</td>\n      <td>NaN</td>\n      <td>Charles Tait</td>\n      <td>...</td>\n      <td>Elizabeth Tait, John Tait, Norman Campbell, Be...</td>\n      <td>True story of notorious Australian outlaw Ned ...</td>\n      <td>6.1</td>\n      <td>537</td>\n      <td>$ 2250</td>\n      <td>NaN</td>\n      <td>NaN</td>\n      <td>NaN</td>\n      <td>7.0</td>\n      <td>7.0</td>\n    </tr>\n    <tr>\n      <th>1</th>\n      <td>tt0001892</td>\n      <td>Den sorte drøm</td>\n      <td>Den sorte drøm</td>\n      <td>1911</td>\n      <td>1911-08-19</td>\n      <td>Drama</td>\n      <td>53</td>\n      <td>Germany, Denmark</td>\n      <td>NaN</td>\n      <td>Urban Gad</td>\n      <td>...</td>\n      <td>Asta Nielsen, Valdemar Psilander, Gunnar Helse...</td>\n      <td>Two men of high rank are both wooing the beaut...</td>\n      <td>5.9</td>\n      <td>171</td>\n      <td>NaN</td>\n      <td>NaN</td>\n      <td>NaN</td>\n      <td>NaN</td>\n      <td>4.0</td>\n      <td>2.0</td>\n    </tr>\n    <tr>\n      <th>2</th>\n      <td>tt0002101</td>\n      <td>Cleopatra</td>\n      <td>Cleopatra</td>\n      <td>1912</td>\n      <td>1912-11-13</td>\n      <td>Drama, History</td>\n      <td>100</td>\n      <td>USA</td>\n      <td>English</td>\n      <td>Charles L. Gaskill</td>\n      <td>...</td>\n      <td>Helen Gardner, Pearl Sindelar, Miss Fielding, ...</td>\n      <td>The fabled queen of Egypt's affair with Roman ...</td>\n      <td>5.2</td>\n      <td>420</td>\n      <td>$ 45000</td>\n      <td>NaN</td>\n      <td>NaN</td>\n      <td>NaN</td>\n      <td>24.0</td>\n      <td>3.0</td>\n    </tr>\n    <tr>\n      <th>3</th>\n      <td>tt0002130</td>\n      <td>L'Inferno</td>\n      <td>L'Inferno</td>\n      <td>1911</td>\n      <td>1911-03-06</td>\n      <td>Adventure, Drama, Fantasy</td>\n      <td>68</td>\n      <td>Italy</td>\n      <td>Italian</td>\n      <td>Francesco Bertolini, Adolfo Padovan</td>\n      <td>...</td>\n      <td>Salvatore Papa, Arturo Pirovano, Giuseppe de L...</td>\n      <td>Loosely adapted from Dante's Divine Comedy and...</td>\n      <td>7.0</td>\n      <td>2019</td>\n      <td>NaN</td>\n      <td>NaN</td>\n      <td>NaN</td>\n      <td>NaN</td>\n      <td>28.0</td>\n      <td>14.0</td>\n    </tr>\n    <tr>\n      <th>4</th>\n      <td>tt0002199</td>\n      <td>From the Manger to the Cross; or, Jesus of Naz...</td>\n      <td>From the Manger to the Cross; or, Jesus of Naz...</td>\n      <td>1912</td>\n      <td>1913</td>\n      <td>Biography, Drama</td>\n      <td>60</td>\n      <td>USA</td>\n      <td>English</td>\n      <td>Sidney Olcott</td>\n      <td>...</td>\n      <td>R. Henderson Bland, Percy Dyer, Gene Gauntier,...</td>\n      <td>An account of the life of Jesus Christ, based ...</td>\n      <td>5.7</td>\n      <td>438</td>\n      <td>NaN</td>\n      <td>NaN</td>\n      <td>NaN</td>\n      <td>NaN</td>\n      <td>12.0</td>\n      <td>5.0</td>\n    </tr>\n    <tr>\n      <th>...</th>\n      <td>...</td>\n      <td>...</td>\n      <td>...</td>\n      <td>...</td>\n      <td>...</td>\n      <td>...</td>\n      <td>...</td>\n      <td>...</td>\n      <td>...</td>\n      <td>...</td>\n      <td>...</td>\n      <td>...</td>\n      <td>...</td>\n      <td>...</td>\n      <td>...</td>\n      <td>...</td>\n      <td>...</td>\n      <td>...</td>\n      <td>...</td>\n      <td>...</td>\n      <td>...</td>\n    </tr>\n    <tr>\n      <th>81268</th>\n      <td>tt9903716</td>\n      <td>Jessie</td>\n      <td>Jessie</td>\n      <td>2019</td>\n      <td>2019-03-15</td>\n      <td>Horror, Thriller</td>\n      <td>106</td>\n      <td>India</td>\n      <td>Telugu</td>\n      <td>Aswani Kumar V.</td>\n      <td>...</td>\n      <td>Sritha Chandana, Pavani Gangireddy, Abhinav Go...</td>\n      <td>Set in an abandoned house, the film follows a ...</td>\n      <td>7.2</td>\n      <td>219</td>\n      <td>NaN</td>\n      <td>NaN</td>\n      <td>NaN</td>\n      <td>NaN</td>\n      <td>21.0</td>\n      <td>NaN</td>\n    </tr>\n    <tr>\n      <th>81269</th>\n      <td>tt9905412</td>\n      <td>Ottam</td>\n      <td>Ottam</td>\n      <td>2019</td>\n      <td>2019-03-08</td>\n      <td>Drama</td>\n      <td>120</td>\n      <td>India</td>\n      <td>Malayalam</td>\n      <td>Zam</td>\n      <td>...</td>\n      <td>Nandu Anand, Roshan Ullas, Manikandan R. Achar...</td>\n      <td>Set in Trivandrum, the story of Ottam unfolds ...</td>\n      <td>7.8</td>\n      <td>510</td>\n      <td>INR 4000000</td>\n      <td>NaN</td>\n      <td>$ 4791</td>\n      <td>NaN</td>\n      <td>NaN</td>\n      <td>NaN</td>\n    </tr>\n    <tr>\n      <th>81270</th>\n      <td>tt9905462</td>\n      <td>Pengalila</td>\n      <td>Pengalila</td>\n      <td>2019</td>\n      <td>2019-03-08</td>\n      <td>Drama</td>\n      <td>111</td>\n      <td>India</td>\n      <td>Malayalam</td>\n      <td>T.V. Chandran</td>\n      <td>...</td>\n      <td>Lal, Akshara Kishor, Iniya, Narain, Renji Pani...</td>\n      <td>An unusual bond between a sixty year old Dalit...</td>\n      <td>8.4</td>\n      <td>604</td>\n      <td>INR 10000000</td>\n      <td>NaN</td>\n      <td>NaN</td>\n      <td>NaN</td>\n      <td>NaN</td>\n      <td>NaN</td>\n    </tr>\n    <tr>\n      <th>81271</th>\n      <td>tt9911774</td>\n      <td>Padmavyuhathile Abhimanyu</td>\n      <td>Padmavyuhathile Abhimanyu</td>\n      <td>2019</td>\n      <td>2019-03-08</td>\n      <td>Drama</td>\n      <td>130</td>\n      <td>India</td>\n      <td>Malayalam</td>\n      <td>Vineesh Aaradya</td>\n      <td>...</td>\n      <td>Anoop Chandran, Indrans, Sona Nair, Simon Brit...</td>\n      <td>NaN</td>\n      <td>8.4</td>\n      <td>369</td>\n      <td>NaN</td>\n      <td>NaN</td>\n      <td>NaN</td>\n      <td>NaN</td>\n      <td>NaN</td>\n      <td>NaN</td>\n    </tr>\n    <tr>\n      <th>81272</th>\n      <td>tt9914286</td>\n      <td>Sokagin Çocuklari</td>\n      <td>Sokagin Çocuklari</td>\n      <td>2019</td>\n      <td>2019-03-15</td>\n      <td>Drama, Family</td>\n      <td>98</td>\n      <td>Turkey</td>\n      <td>Turkish</td>\n      <td>Ahmet Faik Akinci</td>\n      <td>...</td>\n      <td>Ahmet Faik Akinci, Belma Mamati, Metin Keçeci,...</td>\n      <td>NaN</td>\n      <td>7.2</td>\n      <td>190</td>\n      <td>NaN</td>\n      <td>NaN</td>\n      <td>$ 2833</td>\n      <td>NaN</td>\n      <td>NaN</td>\n      <td>NaN</td>\n    </tr>\n  </tbody>\n</table>\n<p>81273 rows × 22 columns</p>\n</div>"
     },
     "execution_count": 1,
     "metadata": {},
     "output_type": "execute_result"
    }
   ],
   "source": [
    "#โจทย์คือหาหนังที่ทำกำไร และ หาจำนวนกลุ่มผูชม\n",
    "import pandas as pd\n",
    "        \n",
    "movies_df = pd.read_csv('IMDb movies .csv', dtype={'year':int})\n",
    "movies_df"
   ],
   "metadata": {
    "collapsed": false,
    "ExecuteTime": {
     "end_time": "2024-02-26T18:05:53.174277500Z",
     "start_time": "2024-02-26T18:05:51.500864900Z"
    }
   },
   "id": "382e9eee9b8e329b"
  },
  {
   "cell_type": "markdown",
   "source": [],
   "metadata": {
    "collapsed": false
   },
   "id": "d244c8b139ce0888"
  },
  {
   "cell_type": "code",
   "execution_count": 2,
   "outputs": [
    {
     "name": "stdout",
     "output_type": "stream",
     "text": [
      "<class 'pandas.core.frame.DataFrame'>\n",
      "RangeIndex: 81273 entries, 0 to 81272\n",
      "Data columns (total 22 columns):\n",
      " #   Column                 Non-Null Count  Dtype  \n",
      "---  ------                 --------------  -----  \n",
      " 0   imdb_title_id          81273 non-null  object \n",
      " 1   title                  81273 non-null  object \n",
      " 2   original_title         81273 non-null  object \n",
      " 3   year                   81273 non-null  int32  \n",
      " 4   date_published         81273 non-null  object \n",
      " 5   genre                  81273 non-null  object \n",
      " 6   duration               81273 non-null  int64  \n",
      " 7   country                81234 non-null  object \n",
      " 8   language               80518 non-null  object \n",
      " 9   director               81200 non-null  object \n",
      " 10  writer                 79780 non-null  object \n",
      " 11  production_company     76948 non-null  object \n",
      " 12  actors                 81207 non-null  object \n",
      " 13  description            78843 non-null  object \n",
      " 14  avg_vote               81273 non-null  float64\n",
      " 15  votes                  81273 non-null  int64  \n",
      " 16  budget                 22804 non-null  object \n",
      " 17  usa_gross_income       15094 non-null  object \n",
      " 18  worlwide_gross_income  29892 non-null  object \n",
      " 19  metascore              12722 non-null  float64\n",
      " 20  reviews_from_users     74196 non-null  float64\n",
      " 21  reviews_from_critics   70286 non-null  float64\n",
      "dtypes: float64(4), int32(1), int64(2), object(15)\n",
      "memory usage: 13.3+ MB\n"
     ]
    }
   ],
   "source": [
    "movies_df.info() #ดูข้อมูล"
   ],
   "metadata": {
    "collapsed": false,
    "ExecuteTime": {
     "end_time": "2024-02-26T18:05:53.362342400Z",
     "start_time": "2024-02-26T18:05:53.171277800Z"
    }
   },
   "id": "d1198be06bdff40"
  },
  {
   "cell_type": "markdown",
   "source": [],
   "metadata": {
    "collapsed": false
   },
   "id": "28b955c5a42977ad"
  },
  {
   "cell_type": "code",
   "execution_count": 3,
   "outputs": [
    {
     "data": {
      "text/plain": "      imdb_title_id                       title              original_title  \\\n15090     tt0069049  The Other Side of the Wind  The Other Side of the Wind   \n20324     tt0085953                      Mo tai                      Mo tai   \n24705     tt0100275       La Telenovela Errante       La Telenovela Errante   \n31606     tt0137204             Joe Finds Grace             Joe Finds Grace   \n40529     tt0315642                       Wazir                       Wazir   \n...             ...                         ...                         ...   \n81268     tt9903716                      Jessie                      Jessie   \n81269     tt9905412                       Ottam                       Ottam   \n81270     tt9905462                   Pengalila                   Pengalila   \n81271     tt9911774   Padmavyuhathile Abhimanyu   Padmavyuhathile Abhimanyu   \n81272     tt9914286           Sokagin Çocuklari           Sokagin Çocuklari   \n\n       year date_published                         genre  duration  \\\n15090  2018     2018-11-02                         Drama       122   \n20324  2019     2019-10-22                        Horror        84   \n24705  2017     2018-09-06        Comedy, Drama, Fantasy        80   \n31606  2017     2017-04-22  Animation, Adventure, Comedy        83   \n40529  2016     2016-01-08          Action, Crime, Drama       103   \n...     ...            ...                           ...       ...   \n81268  2019     2019-03-15              Horror, Thriller       106   \n81269  2019     2019-03-08                         Drama       120   \n81270  2019     2019-03-08                         Drama       111   \n81271  2019     2019-03-08                         Drama       130   \n81272  2019     2019-03-15                 Drama, Family        98   \n\n                 country         language                       director  ...  \\\n15090  France, Iran, USA  English, German                   Orson Welles  ...   \n20324          Hong Kong        Cantonese                 Hung-Chuen Lau  ...   \n24705              Chile          Spanish  Raoul Ruiz, Valeria Sarmiento  ...   \n31606             Canada          English               Anthony Harrison  ...   \n40529              India            Hindi                  Bejoy Nambiar  ...   \n...                  ...              ...                            ...  ...   \n81268              India           Telugu                Aswani Kumar V.  ...   \n81269              India        Malayalam                            Zam  ...   \n81270              India        Malayalam                  T.V. Chandran  ...   \n81271              India        Malayalam                Vineesh Aaradya  ...   \n81272             Turkey          Turkish              Ahmet Faik Akinci  ...   \n\n                                                  actors  \\\n15090  John Huston, Oja Kodar, Peter Bogdanovich, Sus...   \n20324  Eddie Chan, Yung-Chang Chin, Pak-Kwong Ho, Men...   \n24705  Luis Alarcón, Patricia Rivadeneira, Francisco ...   \n31606  Anthony Harrison, C. Ernst Harth, Ellie Harvie...   \n40529  Amitabh Bachchan, Farhan Akhtar, Aditi Rao Hyd...   \n...                                                  ...   \n81268  Sritha Chandana, Pavani Gangireddy, Abhinav Go...   \n81269  Nandu Anand, Roshan Ullas, Manikandan R. Achar...   \n81270  Lal, Akshara Kishor, Iniya, Narain, Renji Pani...   \n81271  Anoop Chandran, Indrans, Sona Nair, Simon Brit...   \n81272  Ahmet Faik Akinci, Belma Mamati, Metin Keçeci,...   \n\n                                             description avg_vote  votes  \\\n15090  A Hollywood director emerges from semi-exile w...      6.9   5014   \n20324  A woman becomes possessed and dies after a mon...      6.2    262   \n24705  The film revolves around the concept of soap o...      6.6    121   \n31606  Simple-minded Joseph Briteman breaks a golden ...      8.6    264   \n40529  A grief-stricken cop and an amputee grandmaste...      7.1  15911   \n...                                                  ...      ...    ...   \n81268  Set in an abandoned house, the film follows a ...      7.2    219   \n81269  Set in Trivandrum, the story of Ottam unfolds ...      7.8    510   \n81270  An unusual bond between a sixty year old Dalit...      8.4    604   \n81271                                                NaN      8.4    369   \n81272                                                NaN      7.2    190   \n\n             budget  usa_gross_income worlwide_gross_income metascore  \\\n15090           NaN               NaN                   NaN      78.0   \n20324           NaN               NaN                   NaN       NaN   \n24705           NaN            $ 3624                $ 3624       NaN   \n31606           NaN               NaN                   NaN       NaN   \n40529           NaN         $ 1124045             $ 5633588       NaN   \n...             ...               ...                   ...       ...   \n81268           NaN               NaN                   NaN       NaN   \n81269   INR 4000000               NaN                $ 4791       NaN   \n81270  INR 10000000               NaN                   NaN       NaN   \n81271           NaN               NaN                   NaN       NaN   \n81272           NaN               NaN                $ 2833       NaN   \n\n      reviews_from_users  reviews_from_critics  \n15090               70.0                  88.0  \n20324               16.0                  14.0  \n24705                NaN                  26.0  \n31606                2.0                   NaN  \n40529              103.0                  29.0  \n...                  ...                   ...  \n81268               21.0                   NaN  \n81269                NaN                   NaN  \n81270                NaN                   NaN  \n81271                NaN                   NaN  \n81272                NaN                   NaN  \n\n[13489 rows x 22 columns]",
      "text/html": "<div>\n<style scoped>\n    .dataframe tbody tr th:only-of-type {\n        vertical-align: middle;\n    }\n\n    .dataframe tbody tr th {\n        vertical-align: top;\n    }\n\n    .dataframe thead th {\n        text-align: right;\n    }\n</style>\n<table border=\"1\" class=\"dataframe\">\n  <thead>\n    <tr style=\"text-align: right;\">\n      <th></th>\n      <th>imdb_title_id</th>\n      <th>title</th>\n      <th>original_title</th>\n      <th>year</th>\n      <th>date_published</th>\n      <th>genre</th>\n      <th>duration</th>\n      <th>country</th>\n      <th>language</th>\n      <th>director</th>\n      <th>...</th>\n      <th>actors</th>\n      <th>description</th>\n      <th>avg_vote</th>\n      <th>votes</th>\n      <th>budget</th>\n      <th>usa_gross_income</th>\n      <th>worlwide_gross_income</th>\n      <th>metascore</th>\n      <th>reviews_from_users</th>\n      <th>reviews_from_critics</th>\n    </tr>\n  </thead>\n  <tbody>\n    <tr>\n      <th>15090</th>\n      <td>tt0069049</td>\n      <td>The Other Side of the Wind</td>\n      <td>The Other Side of the Wind</td>\n      <td>2018</td>\n      <td>2018-11-02</td>\n      <td>Drama</td>\n      <td>122</td>\n      <td>France, Iran, USA</td>\n      <td>English, German</td>\n      <td>Orson Welles</td>\n      <td>...</td>\n      <td>John Huston, Oja Kodar, Peter Bogdanovich, Sus...</td>\n      <td>A Hollywood director emerges from semi-exile w...</td>\n      <td>6.9</td>\n      <td>5014</td>\n      <td>NaN</td>\n      <td>NaN</td>\n      <td>NaN</td>\n      <td>78.0</td>\n      <td>70.0</td>\n      <td>88.0</td>\n    </tr>\n    <tr>\n      <th>20324</th>\n      <td>tt0085953</td>\n      <td>Mo tai</td>\n      <td>Mo tai</td>\n      <td>2019</td>\n      <td>2019-10-22</td>\n      <td>Horror</td>\n      <td>84</td>\n      <td>Hong Kong</td>\n      <td>Cantonese</td>\n      <td>Hung-Chuen Lau</td>\n      <td>...</td>\n      <td>Eddie Chan, Yung-Chang Chin, Pak-Kwong Ho, Men...</td>\n      <td>A woman becomes possessed and dies after a mon...</td>\n      <td>6.2</td>\n      <td>262</td>\n      <td>NaN</td>\n      <td>NaN</td>\n      <td>NaN</td>\n      <td>NaN</td>\n      <td>16.0</td>\n      <td>14.0</td>\n    </tr>\n    <tr>\n      <th>24705</th>\n      <td>tt0100275</td>\n      <td>La Telenovela Errante</td>\n      <td>La Telenovela Errante</td>\n      <td>2017</td>\n      <td>2018-09-06</td>\n      <td>Comedy, Drama, Fantasy</td>\n      <td>80</td>\n      <td>Chile</td>\n      <td>Spanish</td>\n      <td>Raoul Ruiz, Valeria Sarmiento</td>\n      <td>...</td>\n      <td>Luis Alarcón, Patricia Rivadeneira, Francisco ...</td>\n      <td>The film revolves around the concept of soap o...</td>\n      <td>6.6</td>\n      <td>121</td>\n      <td>NaN</td>\n      <td>$ 3624</td>\n      <td>$ 3624</td>\n      <td>NaN</td>\n      <td>NaN</td>\n      <td>26.0</td>\n    </tr>\n    <tr>\n      <th>31606</th>\n      <td>tt0137204</td>\n      <td>Joe Finds Grace</td>\n      <td>Joe Finds Grace</td>\n      <td>2017</td>\n      <td>2017-04-22</td>\n      <td>Animation, Adventure, Comedy</td>\n      <td>83</td>\n      <td>Canada</td>\n      <td>English</td>\n      <td>Anthony Harrison</td>\n      <td>...</td>\n      <td>Anthony Harrison, C. Ernst Harth, Ellie Harvie...</td>\n      <td>Simple-minded Joseph Briteman breaks a golden ...</td>\n      <td>8.6</td>\n      <td>264</td>\n      <td>NaN</td>\n      <td>NaN</td>\n      <td>NaN</td>\n      <td>NaN</td>\n      <td>2.0</td>\n      <td>NaN</td>\n    </tr>\n    <tr>\n      <th>40529</th>\n      <td>tt0315642</td>\n      <td>Wazir</td>\n      <td>Wazir</td>\n      <td>2016</td>\n      <td>2016-01-08</td>\n      <td>Action, Crime, Drama</td>\n      <td>103</td>\n      <td>India</td>\n      <td>Hindi</td>\n      <td>Bejoy Nambiar</td>\n      <td>...</td>\n      <td>Amitabh Bachchan, Farhan Akhtar, Aditi Rao Hyd...</td>\n      <td>A grief-stricken cop and an amputee grandmaste...</td>\n      <td>7.1</td>\n      <td>15911</td>\n      <td>NaN</td>\n      <td>$ 1124045</td>\n      <td>$ 5633588</td>\n      <td>NaN</td>\n      <td>103.0</td>\n      <td>29.0</td>\n    </tr>\n    <tr>\n      <th>...</th>\n      <td>...</td>\n      <td>...</td>\n      <td>...</td>\n      <td>...</td>\n      <td>...</td>\n      <td>...</td>\n      <td>...</td>\n      <td>...</td>\n      <td>...</td>\n      <td>...</td>\n      <td>...</td>\n      <td>...</td>\n      <td>...</td>\n      <td>...</td>\n      <td>...</td>\n      <td>...</td>\n      <td>...</td>\n      <td>...</td>\n      <td>...</td>\n      <td>...</td>\n      <td>...</td>\n    </tr>\n    <tr>\n      <th>81268</th>\n      <td>tt9903716</td>\n      <td>Jessie</td>\n      <td>Jessie</td>\n      <td>2019</td>\n      <td>2019-03-15</td>\n      <td>Horror, Thriller</td>\n      <td>106</td>\n      <td>India</td>\n      <td>Telugu</td>\n      <td>Aswani Kumar V.</td>\n      <td>...</td>\n      <td>Sritha Chandana, Pavani Gangireddy, Abhinav Go...</td>\n      <td>Set in an abandoned house, the film follows a ...</td>\n      <td>7.2</td>\n      <td>219</td>\n      <td>NaN</td>\n      <td>NaN</td>\n      <td>NaN</td>\n      <td>NaN</td>\n      <td>21.0</td>\n      <td>NaN</td>\n    </tr>\n    <tr>\n      <th>81269</th>\n      <td>tt9905412</td>\n      <td>Ottam</td>\n      <td>Ottam</td>\n      <td>2019</td>\n      <td>2019-03-08</td>\n      <td>Drama</td>\n      <td>120</td>\n      <td>India</td>\n      <td>Malayalam</td>\n      <td>Zam</td>\n      <td>...</td>\n      <td>Nandu Anand, Roshan Ullas, Manikandan R. Achar...</td>\n      <td>Set in Trivandrum, the story of Ottam unfolds ...</td>\n      <td>7.8</td>\n      <td>510</td>\n      <td>INR 4000000</td>\n      <td>NaN</td>\n      <td>$ 4791</td>\n      <td>NaN</td>\n      <td>NaN</td>\n      <td>NaN</td>\n    </tr>\n    <tr>\n      <th>81270</th>\n      <td>tt9905462</td>\n      <td>Pengalila</td>\n      <td>Pengalila</td>\n      <td>2019</td>\n      <td>2019-03-08</td>\n      <td>Drama</td>\n      <td>111</td>\n      <td>India</td>\n      <td>Malayalam</td>\n      <td>T.V. Chandran</td>\n      <td>...</td>\n      <td>Lal, Akshara Kishor, Iniya, Narain, Renji Pani...</td>\n      <td>An unusual bond between a sixty year old Dalit...</td>\n      <td>8.4</td>\n      <td>604</td>\n      <td>INR 10000000</td>\n      <td>NaN</td>\n      <td>NaN</td>\n      <td>NaN</td>\n      <td>NaN</td>\n      <td>NaN</td>\n    </tr>\n    <tr>\n      <th>81271</th>\n      <td>tt9911774</td>\n      <td>Padmavyuhathile Abhimanyu</td>\n      <td>Padmavyuhathile Abhimanyu</td>\n      <td>2019</td>\n      <td>2019-03-08</td>\n      <td>Drama</td>\n      <td>130</td>\n      <td>India</td>\n      <td>Malayalam</td>\n      <td>Vineesh Aaradya</td>\n      <td>...</td>\n      <td>Anoop Chandran, Indrans, Sona Nair, Simon Brit...</td>\n      <td>NaN</td>\n      <td>8.4</td>\n      <td>369</td>\n      <td>NaN</td>\n      <td>NaN</td>\n      <td>NaN</td>\n      <td>NaN</td>\n      <td>NaN</td>\n      <td>NaN</td>\n    </tr>\n    <tr>\n      <th>81272</th>\n      <td>tt9914286</td>\n      <td>Sokagin Çocuklari</td>\n      <td>Sokagin Çocuklari</td>\n      <td>2019</td>\n      <td>2019-03-15</td>\n      <td>Drama, Family</td>\n      <td>98</td>\n      <td>Turkey</td>\n      <td>Turkish</td>\n      <td>Ahmet Faik Akinci</td>\n      <td>...</td>\n      <td>Ahmet Faik Akinci, Belma Mamati, Metin Keçeci,...</td>\n      <td>NaN</td>\n      <td>7.2</td>\n      <td>190</td>\n      <td>NaN</td>\n      <td>NaN</td>\n      <td>$ 2833</td>\n      <td>NaN</td>\n      <td>NaN</td>\n      <td>NaN</td>\n    </tr>\n  </tbody>\n</table>\n<p>13489 rows × 22 columns</p>\n</div>"
     },
     "execution_count": 3,
     "metadata": {},
     "output_type": "execute_result"
    }
   ],
   "source": [
    "new_movies_df = movies_df[movies_df['year'] >= 2015]\n",
    "#กรองข้อมูล 5 ปีหลัง 2015 - 2019 (ข้อมูลล่าสุด 2019) เพื่อดูว่าหนังที่ทำกำไร 5 ปีหลังสุดเป็นหนังประเภทใด\n",
    "new_movies_df"
   ],
   "metadata": {
    "collapsed": false,
    "ExecuteTime": {
     "end_time": "2024-02-26T18:05:53.445286100Z",
     "start_time": "2024-02-26T18:05:53.363341900Z"
    }
   },
   "id": "900dd632b95d27b7"
  },
  {
   "cell_type": "code",
   "execution_count": 4,
   "outputs": [
    {
     "data": {
      "text/plain": "      imdb_title_id        budget worlwide_gross_income\n42553     tt0369610   $ 150000000          $ 1670400637\n43345     tt0385887    $ 26000000             $ 9205026\n45409     tt0437086   $ 170000000           $ 404852543\n45578     tt0441881  AUD 35000000             $ 2034844\n45644     tt0443533  EUR 15000000              $ 492272\n...             ...           ...                   ...\n81234     tt9799992     $ 1200000              $ 171229\n81261     tt9878242  INR 30000000              $ 105932\n81264     tt9894394  MYR 20000000               $ 83857\n81267     tt9900782     $ 6000000              $ 420126\n81269     tt9905412   INR 4000000                $ 4791\n\n[2245 rows x 3 columns]",
      "text/html": "<div>\n<style scoped>\n    .dataframe tbody tr th:only-of-type {\n        vertical-align: middle;\n    }\n\n    .dataframe tbody tr th {\n        vertical-align: top;\n    }\n\n    .dataframe thead th {\n        text-align: right;\n    }\n</style>\n<table border=\"1\" class=\"dataframe\">\n  <thead>\n    <tr style=\"text-align: right;\">\n      <th></th>\n      <th>imdb_title_id</th>\n      <th>budget</th>\n      <th>worlwide_gross_income</th>\n    </tr>\n  </thead>\n  <tbody>\n    <tr>\n      <th>42553</th>\n      <td>tt0369610</td>\n      <td>$ 150000000</td>\n      <td>$ 1670400637</td>\n    </tr>\n    <tr>\n      <th>43345</th>\n      <td>tt0385887</td>\n      <td>$ 26000000</td>\n      <td>$ 9205026</td>\n    </tr>\n    <tr>\n      <th>45409</th>\n      <td>tt0437086</td>\n      <td>$ 170000000</td>\n      <td>$ 404852543</td>\n    </tr>\n    <tr>\n      <th>45578</th>\n      <td>tt0441881</td>\n      <td>AUD 35000000</td>\n      <td>$ 2034844</td>\n    </tr>\n    <tr>\n      <th>45644</th>\n      <td>tt0443533</td>\n      <td>EUR 15000000</td>\n      <td>$ 492272</td>\n    </tr>\n    <tr>\n      <th>...</th>\n      <td>...</td>\n      <td>...</td>\n      <td>...</td>\n    </tr>\n    <tr>\n      <th>81234</th>\n      <td>tt9799992</td>\n      <td>$ 1200000</td>\n      <td>$ 171229</td>\n    </tr>\n    <tr>\n      <th>81261</th>\n      <td>tt9878242</td>\n      <td>INR 30000000</td>\n      <td>$ 105932</td>\n    </tr>\n    <tr>\n      <th>81264</th>\n      <td>tt9894394</td>\n      <td>MYR 20000000</td>\n      <td>$ 83857</td>\n    </tr>\n    <tr>\n      <th>81267</th>\n      <td>tt9900782</td>\n      <td>$ 6000000</td>\n      <td>$ 420126</td>\n    </tr>\n    <tr>\n      <th>81269</th>\n      <td>tt9905412</td>\n      <td>INR 4000000</td>\n      <td>$ 4791</td>\n    </tr>\n  </tbody>\n</table>\n<p>2245 rows × 3 columns</p>\n</div>"
     },
     "execution_count": 4,
     "metadata": {},
     "output_type": "execute_result"
    }
   ],
   "source": [
    "filtered_movies_df = new_movies_df[new_movies_df['budget'].notna() & new_movies_df['worlwide_gross_income'].notna()][['imdb_title_id', 'budget', 'worlwide_gross_income']]\n",
    "#กรองข้อมูล column budget,worlwide_gross_income ที่ไม่เอา row ที่มี missing values โดยใช้ .notna()\n",
    "filtered_movies_df"
   ],
   "metadata": {
    "collapsed": false,
    "ExecuteTime": {
     "end_time": "2024-02-26T18:05:53.464761700Z",
     "start_time": "2024-02-26T18:05:53.418398900Z"
    }
   },
   "id": "9127e6e834babdaf"
  },
  {
   "cell_type": "code",
   "execution_count": 5,
   "outputs": [
    {
     "data": {
      "text/plain": "array(['$', 'AUD', 'EUR', 'EGP', 'RUR', 'MYR', 'TRL', 'ISK', 'CNY', 'GBP',\n       'HUF', 'PLN', 'BRL', 'NOK', 'INR', 'HKD', 'CZK', 'RON', 'SEK',\n       'DKK', 'CAD', 'ARS', 'UAH', 'IRR', 'NZD', 'KRW', 'SGD', 'DOP',\n       'JPY', 'ILS', 'MXN', 'PHP', 'AMD', 'PKR', 'IDR', 'ZAR', 'BDT',\n       'THB', 'AED'], dtype=object)"
     },
     "execution_count": 5,
     "metadata": {},
     "output_type": "execute_result"
    }
   ],
   "source": [
    "filtered_movies_df1 = filtered_movies_df['budget'].apply(lambda m: m.split()[0]).unique()\n",
    "#ดูจำนวนสกุลเงินทั้งหมดที่ไม่ซ้ำกัน\n",
    "filtered_movies_df1"
   ],
   "metadata": {
    "collapsed": false,
    "ExecuteTime": {
     "end_time": "2024-02-26T18:05:53.522480600Z",
     "start_time": "2024-02-26T18:05:53.436219100Z"
    }
   },
   "id": "32a7daf193cbb307"
  },
  {
   "cell_type": "code",
   "execution_count": 6,
   "outputs": [
    {
     "data": {
      "text/plain": "      imdb_title_id       budget worlwide_gross_income\n42553     tt0369610  $ 150000000          $ 1670400637\n43345     tt0385887   $ 26000000             $ 9205026\n45409     tt0437086  $ 170000000           $ 404852543\n45818     tt0448115  $ 100000000           $ 364571656\n45978     tt0451279  $ 149000000           $ 821847012\n...             ...          ...                   ...\n80946     tt9134216   $ 29900000            $ 21788746\n80974     tt9176136     $ 986000               $ 36721\n81059     tt9354944    $ 5000000             $ 7257918\n81234     tt9799992    $ 1200000              $ 171229\n81267     tt9900782    $ 6000000              $ 420126\n\n[1327 rows x 3 columns]",
      "text/html": "<div>\n<style scoped>\n    .dataframe tbody tr th:only-of-type {\n        vertical-align: middle;\n    }\n\n    .dataframe tbody tr th {\n        vertical-align: top;\n    }\n\n    .dataframe thead th {\n        text-align: right;\n    }\n</style>\n<table border=\"1\" class=\"dataframe\">\n  <thead>\n    <tr style=\"text-align: right;\">\n      <th></th>\n      <th>imdb_title_id</th>\n      <th>budget</th>\n      <th>worlwide_gross_income</th>\n    </tr>\n  </thead>\n  <tbody>\n    <tr>\n      <th>42553</th>\n      <td>tt0369610</td>\n      <td>$ 150000000</td>\n      <td>$ 1670400637</td>\n    </tr>\n    <tr>\n      <th>43345</th>\n      <td>tt0385887</td>\n      <td>$ 26000000</td>\n      <td>$ 9205026</td>\n    </tr>\n    <tr>\n      <th>45409</th>\n      <td>tt0437086</td>\n      <td>$ 170000000</td>\n      <td>$ 404852543</td>\n    </tr>\n    <tr>\n      <th>45818</th>\n      <td>tt0448115</td>\n      <td>$ 100000000</td>\n      <td>$ 364571656</td>\n    </tr>\n    <tr>\n      <th>45978</th>\n      <td>tt0451279</td>\n      <td>$ 149000000</td>\n      <td>$ 821847012</td>\n    </tr>\n    <tr>\n      <th>...</th>\n      <td>...</td>\n      <td>...</td>\n      <td>...</td>\n    </tr>\n    <tr>\n      <th>80946</th>\n      <td>tt9134216</td>\n      <td>$ 29900000</td>\n      <td>$ 21788746</td>\n    </tr>\n    <tr>\n      <th>80974</th>\n      <td>tt9176136</td>\n      <td>$ 986000</td>\n      <td>$ 36721</td>\n    </tr>\n    <tr>\n      <th>81059</th>\n      <td>tt9354944</td>\n      <td>$ 5000000</td>\n      <td>$ 7257918</td>\n    </tr>\n    <tr>\n      <th>81234</th>\n      <td>tt9799992</td>\n      <td>$ 1200000</td>\n      <td>$ 171229</td>\n    </tr>\n    <tr>\n      <th>81267</th>\n      <td>tt9900782</td>\n      <td>$ 6000000</td>\n      <td>$ 420126</td>\n    </tr>\n  </tbody>\n</table>\n<p>1327 rows × 3 columns</p>\n</div>"
     },
     "execution_count": 6,
     "metadata": {},
     "output_type": "execute_result"
    }
   ],
   "source": [
    "filtered_movies_df = filtered_movies_df[filtered_movies_df['budget'].str.slice(stop=1) == '$']\n",
    "#ตัดขอมูลในตำแหน่งที่ 1 เป็นต้นไปโดยเอาเฉพาะข้อความที่แปลงมาที่มีค่า = '$' เท่านั้น\n",
    "filtered_movies_df"
   ],
   "metadata": {
    "collapsed": false,
    "ExecuteTime": {
     "end_time": "2024-02-26T18:05:53.543487300Z",
     "start_time": "2024-02-26T18:05:53.443285500Z"
    }
   },
   "id": "996a9590646f416c"
  },
  {
   "cell_type": "code",
   "execution_count": 7,
   "outputs": [
    {
     "name": "stderr",
     "output_type": "stream",
     "text": [
      "C:\\Users\\ADMINS\\AppData\\Local\\Temp\\ipykernel_20340\\2588820757.py:1: SettingWithCopyWarning: \n",
      "A value is trying to be set on a copy of a slice from a DataFrame.\n",
      "Try using .loc[row_indexer,col_indexer] = value instead\n",
      "\n",
      "See the caveats in the documentation: https://pandas.pydata.org/pandas-docs/stable/user_guide/indexing.html#returning-a-view-versus-a-copy\n",
      "  filtered_movies_df['profit'] = filtered_movies_df['worlwide_gross_income'].apply(lambda m : int(m.split()[1])) - filtered_movies_df['budget'].apply(lambda m : int(m.split()[1]))\n"
     ]
    },
    {
     "data": {
      "text/plain": "      imdb_title_id       budget worlwide_gross_income      profit\n42553     tt0369610  $ 150000000          $ 1670400637  1520400637\n43345     tt0385887   $ 26000000             $ 9205026   -16794974\n45409     tt0437086  $ 170000000           $ 404852543   234852543\n45818     tt0448115  $ 100000000           $ 364571656   264571656\n45978     tt0451279  $ 149000000           $ 821847012   672847012\n...             ...          ...                   ...         ...\n80946     tt9134216   $ 29900000            $ 21788746    -8111254\n80974     tt9176136     $ 986000               $ 36721     -949279\n81059     tt9354944    $ 5000000             $ 7257918     2257918\n81234     tt9799992    $ 1200000              $ 171229    -1028771\n81267     tt9900782    $ 6000000              $ 420126    -5579874\n\n[1327 rows x 4 columns]",
      "text/html": "<div>\n<style scoped>\n    .dataframe tbody tr th:only-of-type {\n        vertical-align: middle;\n    }\n\n    .dataframe tbody tr th {\n        vertical-align: top;\n    }\n\n    .dataframe thead th {\n        text-align: right;\n    }\n</style>\n<table border=\"1\" class=\"dataframe\">\n  <thead>\n    <tr style=\"text-align: right;\">\n      <th></th>\n      <th>imdb_title_id</th>\n      <th>budget</th>\n      <th>worlwide_gross_income</th>\n      <th>profit</th>\n    </tr>\n  </thead>\n  <tbody>\n    <tr>\n      <th>42553</th>\n      <td>tt0369610</td>\n      <td>$ 150000000</td>\n      <td>$ 1670400637</td>\n      <td>1520400637</td>\n    </tr>\n    <tr>\n      <th>43345</th>\n      <td>tt0385887</td>\n      <td>$ 26000000</td>\n      <td>$ 9205026</td>\n      <td>-16794974</td>\n    </tr>\n    <tr>\n      <th>45409</th>\n      <td>tt0437086</td>\n      <td>$ 170000000</td>\n      <td>$ 404852543</td>\n      <td>234852543</td>\n    </tr>\n    <tr>\n      <th>45818</th>\n      <td>tt0448115</td>\n      <td>$ 100000000</td>\n      <td>$ 364571656</td>\n      <td>264571656</td>\n    </tr>\n    <tr>\n      <th>45978</th>\n      <td>tt0451279</td>\n      <td>$ 149000000</td>\n      <td>$ 821847012</td>\n      <td>672847012</td>\n    </tr>\n    <tr>\n      <th>...</th>\n      <td>...</td>\n      <td>...</td>\n      <td>...</td>\n      <td>...</td>\n    </tr>\n    <tr>\n      <th>80946</th>\n      <td>tt9134216</td>\n      <td>$ 29900000</td>\n      <td>$ 21788746</td>\n      <td>-8111254</td>\n    </tr>\n    <tr>\n      <th>80974</th>\n      <td>tt9176136</td>\n      <td>$ 986000</td>\n      <td>$ 36721</td>\n      <td>-949279</td>\n    </tr>\n    <tr>\n      <th>81059</th>\n      <td>tt9354944</td>\n      <td>$ 5000000</td>\n      <td>$ 7257918</td>\n      <td>2257918</td>\n    </tr>\n    <tr>\n      <th>81234</th>\n      <td>tt9799992</td>\n      <td>$ 1200000</td>\n      <td>$ 171229</td>\n      <td>-1028771</td>\n    </tr>\n    <tr>\n      <th>81267</th>\n      <td>tt9900782</td>\n      <td>$ 6000000</td>\n      <td>$ 420126</td>\n      <td>-5579874</td>\n    </tr>\n  </tbody>\n</table>\n<p>1327 rows × 4 columns</p>\n</div>"
     },
     "execution_count": 7,
     "metadata": {},
     "output_type": "execute_result"
    }
   ],
   "source": [
    "filtered_movies_df['profit'] = filtered_movies_df['worlwide_gross_income'].apply(lambda m : int(m.split()[1])) - filtered_movies_df['budget'].apply(lambda m : int(m.split()[1]))\n",
    "#แปลงค่า column ในตำแหน่งที่ 1 เป็นตัวเลข\n",
    "#หากำไรโดยนำ 'worlwide_gross_income' - 'budget' \n",
    "filtered_movies_df"
   ],
   "metadata": {
    "collapsed": false,
    "ExecuteTime": {
     "end_time": "2024-02-26T18:05:53.598939700Z",
     "start_time": "2024-02-26T18:05:53.462761400Z"
    }
   },
   "id": "ce44d3fa48e638fe"
  },
  {
   "cell_type": "code",
   "execution_count": 17,
   "outputs": [
    {
     "data": {
      "text/plain": "      imdb_title_id       budget worlwide_gross_income      profit\n42553     tt0369610  $ 150000000          $ 1670400637  1520400637\n45409     tt0437086  $ 170000000           $ 404852543   234852543\n45818     tt0448115  $ 100000000           $ 364571656   264571656\n45978     tt0451279  $ 149000000           $ 821847012   672847012\n47057     tt0475290   $ 22000000            $ 63647656    41647656\n...             ...          ...                   ...         ...\n80739     tt8866064      $ 33000               $ 52238       19238\n80858     tt9024106    $ 6000000            $ 19320481    13320481\n80869     tt9034290         $ 21             $ 1289283     1289262\n80872     tt9037222    $ 1200000             $ 2708622     1508622\n81059     tt9354944    $ 5000000             $ 7257918     2257918\n\n[724 rows x 4 columns]",
      "text/html": "<div>\n<style scoped>\n    .dataframe tbody tr th:only-of-type {\n        vertical-align: middle;\n    }\n\n    .dataframe tbody tr th {\n        vertical-align: top;\n    }\n\n    .dataframe thead th {\n        text-align: right;\n    }\n</style>\n<table border=\"1\" class=\"dataframe\">\n  <thead>\n    <tr style=\"text-align: right;\">\n      <th></th>\n      <th>imdb_title_id</th>\n      <th>budget</th>\n      <th>worlwide_gross_income</th>\n      <th>profit</th>\n    </tr>\n  </thead>\n  <tbody>\n    <tr>\n      <th>42553</th>\n      <td>tt0369610</td>\n      <td>$ 150000000</td>\n      <td>$ 1670400637</td>\n      <td>1520400637</td>\n    </tr>\n    <tr>\n      <th>45409</th>\n      <td>tt0437086</td>\n      <td>$ 170000000</td>\n      <td>$ 404852543</td>\n      <td>234852543</td>\n    </tr>\n    <tr>\n      <th>45818</th>\n      <td>tt0448115</td>\n      <td>$ 100000000</td>\n      <td>$ 364571656</td>\n      <td>264571656</td>\n    </tr>\n    <tr>\n      <th>45978</th>\n      <td>tt0451279</td>\n      <td>$ 149000000</td>\n      <td>$ 821847012</td>\n      <td>672847012</td>\n    </tr>\n    <tr>\n      <th>47057</th>\n      <td>tt0475290</td>\n      <td>$ 22000000</td>\n      <td>$ 63647656</td>\n      <td>41647656</td>\n    </tr>\n    <tr>\n      <th>...</th>\n      <td>...</td>\n      <td>...</td>\n      <td>...</td>\n      <td>...</td>\n    </tr>\n    <tr>\n      <th>80739</th>\n      <td>tt8866064</td>\n      <td>$ 33000</td>\n      <td>$ 52238</td>\n      <td>19238</td>\n    </tr>\n    <tr>\n      <th>80858</th>\n      <td>tt9024106</td>\n      <td>$ 6000000</td>\n      <td>$ 19320481</td>\n      <td>13320481</td>\n    </tr>\n    <tr>\n      <th>80869</th>\n      <td>tt9034290</td>\n      <td>$ 21</td>\n      <td>$ 1289283</td>\n      <td>1289262</td>\n    </tr>\n    <tr>\n      <th>80872</th>\n      <td>tt9037222</td>\n      <td>$ 1200000</td>\n      <td>$ 2708622</td>\n      <td>1508622</td>\n    </tr>\n    <tr>\n      <th>81059</th>\n      <td>tt9354944</td>\n      <td>$ 5000000</td>\n      <td>$ 7257918</td>\n      <td>2257918</td>\n    </tr>\n  </tbody>\n</table>\n<p>724 rows × 4 columns</p>\n</div>"
     },
     "execution_count": 17,
     "metadata": {},
     "output_type": "execute_result"
    }
   ],
   "source": [
    "filtered_movies_df[filtered_movies_df['profit'] > 0] \n",
    "\n",
    "#เลือกหนังที่ทำกำไร\n"
   ],
   "metadata": {
    "collapsed": false,
    "ExecuteTime": {
     "end_time": "2024-02-26T18:08:26.255911700Z",
     "start_time": "2024-02-26T18:08:26.209380400Z"
    }
   },
   "id": "e7087b1b4af3d7b2"
  },
  {
   "cell_type": "code",
   "execution_count": 9,
   "outputs": [
    {
     "data": {
      "text/plain": "42553    tt0369610\n45409    tt0437086\n45818    tt0448115\n45978    tt0451279\n47057    tt0475290\n           ...    \n80739    tt8866064\n80858    tt9024106\n80869    tt9034290\n80872    tt9037222\n81059    tt9354944\nName: imdb_title_id, Length: 724, dtype: object"
     },
     "execution_count": 9,
     "metadata": {},
     "output_type": "execute_result"
    }
   ],
   "source": [
    "selected_ids = filtered_movies_df[filtered_movies_df['profit'] > 0]['imdb_title_id'] #เลือก id หนังที่ทำกำไร\n",
    "selected_ids"
   ],
   "metadata": {
    "collapsed": false,
    "ExecuteTime": {
     "end_time": "2024-02-26T18:05:53.753646200Z",
     "start_time": "2024-02-26T18:05:53.508796500Z"
    }
   },
   "id": "ce29a7b9fd517cf7"
  },
  {
   "cell_type": "code",
   "execution_count": 10,
   "outputs": [
    {
     "data": {
      "text/plain": "genre\nAction       35613101\nAdventure    32953094\nAnimation     5274024\nBiography     6979346\nComedy       19118624\nCrime         8876542\nDrama        28520859\nFamily        3050771\nFantasy       7765014\nHistory       2747680\nHorror        6937687\nMusic         1712528\nMusical        524983\nMystery       6358015\nRomance       3884439\nSci-Fi       15447500\nSport          800577\nThriller     10948154\nWar            134425\nWestern        172758\nName: votes, dtype: int64"
     },
     "execution_count": 10,
     "metadata": {},
     "output_type": "execute_result"
    }
   ],
   "source": [
    "popular_movie_df = movies_df.merge(selected_ids)\n",
    "popular_movie_df['genre'] = popular_movie_df['genre'].apply(lambda m: m.split(', ')) #แยกข้อความใน 'genre' \n",
    "popular_movie_df = popular_movie_df.explode('genre') #แยกข้อความที่มาจากจากบรรทัดด้านบนมาเป็น row\n",
    "popular_movie_df.groupby('genre')['votes'].sum() #รวม column ที่ชื่อว่า ('genre')['votes'] และรวมผลโหวต(.sum)"
   ],
   "metadata": {
    "collapsed": false,
    "ExecuteTime": {
     "end_time": "2024-02-26T18:05:53.792649400Z",
     "start_time": "2024-02-26T18:05:53.520974Z"
    }
   },
   "id": "cd8188e95093a56f"
  },
  {
   "cell_type": "code",
   "execution_count": 11,
   "outputs": [
    {
     "data": {
      "text/plain": "Index(['imdb_title_id', 'weighted_average_vote', 'total_votes', 'mean_vote',\n       'median_vote', 'votes_10', 'votes_9', 'votes_8', 'votes_7', 'votes_6',\n       'votes_5', 'votes_4', 'votes_3', 'votes_2', 'votes_1',\n       'allgenders_0age_avg_vote', 'allgenders_0age_votes',\n       'allgenders_18age_avg_vote', 'allgenders_18age_votes',\n       'allgenders_30age_avg_vote', 'allgenders_30age_votes',\n       'allgenders_45age_avg_vote', 'allgenders_45age_votes',\n       'males_allages_avg_vote', 'males_allages_votes', 'males_0age_avg_vote',\n       'males_0age_votes', 'males_18age_avg_vote', 'males_18age_votes',\n       'males_30age_avg_vote', 'males_30age_votes', 'males_45age_avg_vote',\n       'males_45age_votes', 'females_allages_avg_vote',\n       'females_allages_votes', 'females_0age_avg_vote', 'females_0age_votes',\n       'females_18age_avg_vote', 'females_18age_votes',\n       'females_30age_avg_vote', 'females_30age_votes',\n       'females_45age_avg_vote', 'females_45age_votes',\n       'top1000_voters_rating', 'top1000_voters_votes', 'us_voters_rating',\n       'us_voters_votes', 'non_us_voters_rating', 'non_us_voters_votes'],\n      dtype='object')"
     },
     "execution_count": 11,
     "metadata": {},
     "output_type": "execute_result"
    }
   ],
   "source": [
    "ratings_df = pd.read_csv('IMDb ratings.csv')\n",
    "ratings_df.columns #ดูว่ามี column ขื่ออะไรบ้างในไฟล์ ('IMDb ratings.csv')\n"
   ],
   "metadata": {
    "collapsed": false,
    "ExecuteTime": {
     "end_time": "2024-02-26T18:05:54.290697600Z",
     "start_time": "2024-02-26T18:05:53.577938300Z"
    }
   },
   "id": "7c1cc1bad9b54fd4"
  },
  {
   "cell_type": "code",
   "execution_count": 12,
   "outputs": [
    {
     "data": {
      "text/plain": "    imdb_title_id  weighted_average_vote  total_votes  mean_vote  median_vote  \\\n0       tt0369610                    7.0       550189        7.1          7.0   \n1       tt0437086                    7.4       171427        7.6          8.0   \n2       tt0448115                    7.1       191155        7.2          7.0   \n3       tt0451279                    7.4       507173        7.6          8.0   \n4       tt0475290                    6.3       114278        6.2          6.0   \n..            ...                    ...          ...        ...          ...   \n719     tt8866064                    8.9          383        9.3         10.0   \n720     tt9024106                    5.8        10783        7.6         10.0   \n721     tt9034290                    6.6         1572        7.0          7.0   \n722     tt9037222                    5.4          250        5.5          6.0   \n723     tt9354944                    6.6         3674        7.4          8.0   \n\n     votes_10  votes_9  votes_8  votes_7  votes_6  ...  \\\n0       50664    50257   122458   161733    90315  ...   \n1       24708    24425    47028    41336    19196  ...   \n2       18950    18448    47429    56235    28301  ...   \n3       75396    76448   132992   114923    54468  ...   \n4        2856     4310    15367    31385    28940  ...   \n..        ...      ...      ...      ...      ...  ...   \n719       306       29       16        8        2  ...   \n720      6410      693      534      334      197  ...   \n721       395      106      213      269      224  ...   \n722        21       11       20       40       46  ...   \n723       503      687      843      914      244  ...   \n\n     females_30age_avg_vote  females_30age_votes  females_45age_avg_vote  \\\n0                       7.2              28277.0                     7.3   \n1                       7.3               5446.0                     7.5   \n2                       7.2               6237.0                     7.3   \n3                       7.6              25298.0                     7.8   \n4                       6.1               6231.0                     6.2   \n..                      ...                  ...                     ...   \n719                     8.7                 24.0                    10.0   \n720                     5.1                516.0                     7.0   \n721                     6.7                 62.0                     6.1   \n722                     6.5                  8.0                     1.0   \n723                     6.0                 65.0                     6.1   \n\n     females_45age_votes  top1000_voters_rating  top1000_voters_votes  \\\n0                 5656.0                    6.8                 762.0   \n1                 1235.0                    7.0                 337.0   \n2                 1423.0                    6.9                 401.0   \n3                 6310.0                    7.0                 695.0   \n4                 1901.0                    5.9                 524.0   \n..                   ...                    ...                   ...   \n719                  1.0                    4.2                   4.0   \n720                495.0                    4.1                  66.0   \n721                  5.0                    4.7                   7.0   \n722                  1.0                    3.7                   6.0   \n723                 32.0                    4.6                  29.0   \n\n     us_voters_rating  us_voters_votes  non_us_voters_rating  \\\n0                 7.1          71157.0                   6.8   \n1                 7.3          17737.0                   7.3   \n2                 7.4          22410.0                   6.9   \n3                 7.7          64938.0                   7.2   \n4                 6.4          17833.0                   6.3   \n..                ...              ...                   ...   \n719               8.0             50.0                   8.0   \n720               6.1           2376.0                   4.8   \n721               5.5             20.0                   6.3   \n722               5.5              2.0                   5.2   \n723               5.7            514.0                   5.6   \n\n     non_us_voters_votes  \n0               211733.0  \n1                66739.0  \n2                68150.0  \n3               181769.0  \n4                52747.0  \n..                   ...  \n719                140.0  \n720               2524.0  \n721                685.0  \n722                120.0  \n723                186.0  \n\n[724 rows x 49 columns]",
      "text/html": "<div>\n<style scoped>\n    .dataframe tbody tr th:only-of-type {\n        vertical-align: middle;\n    }\n\n    .dataframe tbody tr th {\n        vertical-align: top;\n    }\n\n    .dataframe thead th {\n        text-align: right;\n    }\n</style>\n<table border=\"1\" class=\"dataframe\">\n  <thead>\n    <tr style=\"text-align: right;\">\n      <th></th>\n      <th>imdb_title_id</th>\n      <th>weighted_average_vote</th>\n      <th>total_votes</th>\n      <th>mean_vote</th>\n      <th>median_vote</th>\n      <th>votes_10</th>\n      <th>votes_9</th>\n      <th>votes_8</th>\n      <th>votes_7</th>\n      <th>votes_6</th>\n      <th>...</th>\n      <th>females_30age_avg_vote</th>\n      <th>females_30age_votes</th>\n      <th>females_45age_avg_vote</th>\n      <th>females_45age_votes</th>\n      <th>top1000_voters_rating</th>\n      <th>top1000_voters_votes</th>\n      <th>us_voters_rating</th>\n      <th>us_voters_votes</th>\n      <th>non_us_voters_rating</th>\n      <th>non_us_voters_votes</th>\n    </tr>\n  </thead>\n  <tbody>\n    <tr>\n      <th>0</th>\n      <td>tt0369610</td>\n      <td>7.0</td>\n      <td>550189</td>\n      <td>7.1</td>\n      <td>7.0</td>\n      <td>50664</td>\n      <td>50257</td>\n      <td>122458</td>\n      <td>161733</td>\n      <td>90315</td>\n      <td>...</td>\n      <td>7.2</td>\n      <td>28277.0</td>\n      <td>7.3</td>\n      <td>5656.0</td>\n      <td>6.8</td>\n      <td>762.0</td>\n      <td>7.1</td>\n      <td>71157.0</td>\n      <td>6.8</td>\n      <td>211733.0</td>\n    </tr>\n    <tr>\n      <th>1</th>\n      <td>tt0437086</td>\n      <td>7.4</td>\n      <td>171427</td>\n      <td>7.6</td>\n      <td>8.0</td>\n      <td>24708</td>\n      <td>24425</td>\n      <td>47028</td>\n      <td>41336</td>\n      <td>19196</td>\n      <td>...</td>\n      <td>7.3</td>\n      <td>5446.0</td>\n      <td>7.5</td>\n      <td>1235.0</td>\n      <td>7.0</td>\n      <td>337.0</td>\n      <td>7.3</td>\n      <td>17737.0</td>\n      <td>7.3</td>\n      <td>66739.0</td>\n    </tr>\n    <tr>\n      <th>2</th>\n      <td>tt0448115</td>\n      <td>7.1</td>\n      <td>191155</td>\n      <td>7.2</td>\n      <td>7.0</td>\n      <td>18950</td>\n      <td>18448</td>\n      <td>47429</td>\n      <td>56235</td>\n      <td>28301</td>\n      <td>...</td>\n      <td>7.2</td>\n      <td>6237.0</td>\n      <td>7.3</td>\n      <td>1423.0</td>\n      <td>6.9</td>\n      <td>401.0</td>\n      <td>7.4</td>\n      <td>22410.0</td>\n      <td>6.9</td>\n      <td>68150.0</td>\n    </tr>\n    <tr>\n      <th>3</th>\n      <td>tt0451279</td>\n      <td>7.4</td>\n      <td>507173</td>\n      <td>7.6</td>\n      <td>8.0</td>\n      <td>75396</td>\n      <td>76448</td>\n      <td>132992</td>\n      <td>114923</td>\n      <td>54468</td>\n      <td>...</td>\n      <td>7.6</td>\n      <td>25298.0</td>\n      <td>7.8</td>\n      <td>6310.0</td>\n      <td>7.0</td>\n      <td>695.0</td>\n      <td>7.7</td>\n      <td>64938.0</td>\n      <td>7.2</td>\n      <td>181769.0</td>\n    </tr>\n    <tr>\n      <th>4</th>\n      <td>tt0475290</td>\n      <td>6.3</td>\n      <td>114278</td>\n      <td>6.2</td>\n      <td>6.0</td>\n      <td>2856</td>\n      <td>4310</td>\n      <td>15367</td>\n      <td>31385</td>\n      <td>28940</td>\n      <td>...</td>\n      <td>6.1</td>\n      <td>6231.0</td>\n      <td>6.2</td>\n      <td>1901.0</td>\n      <td>5.9</td>\n      <td>524.0</td>\n      <td>6.4</td>\n      <td>17833.0</td>\n      <td>6.3</td>\n      <td>52747.0</td>\n    </tr>\n    <tr>\n      <th>...</th>\n      <td>...</td>\n      <td>...</td>\n      <td>...</td>\n      <td>...</td>\n      <td>...</td>\n      <td>...</td>\n      <td>...</td>\n      <td>...</td>\n      <td>...</td>\n      <td>...</td>\n      <td>...</td>\n      <td>...</td>\n      <td>...</td>\n      <td>...</td>\n      <td>...</td>\n      <td>...</td>\n      <td>...</td>\n      <td>...</td>\n      <td>...</td>\n      <td>...</td>\n      <td>...</td>\n    </tr>\n    <tr>\n      <th>719</th>\n      <td>tt8866064</td>\n      <td>8.9</td>\n      <td>383</td>\n      <td>9.3</td>\n      <td>10.0</td>\n      <td>306</td>\n      <td>29</td>\n      <td>16</td>\n      <td>8</td>\n      <td>2</td>\n      <td>...</td>\n      <td>8.7</td>\n      <td>24.0</td>\n      <td>10.0</td>\n      <td>1.0</td>\n      <td>4.2</td>\n      <td>4.0</td>\n      <td>8.0</td>\n      <td>50.0</td>\n      <td>8.0</td>\n      <td>140.0</td>\n    </tr>\n    <tr>\n      <th>720</th>\n      <td>tt9024106</td>\n      <td>5.8</td>\n      <td>10783</td>\n      <td>7.6</td>\n      <td>10.0</td>\n      <td>6410</td>\n      <td>693</td>\n      <td>534</td>\n      <td>334</td>\n      <td>197</td>\n      <td>...</td>\n      <td>5.1</td>\n      <td>516.0</td>\n      <td>7.0</td>\n      <td>495.0</td>\n      <td>4.1</td>\n      <td>66.0</td>\n      <td>6.1</td>\n      <td>2376.0</td>\n      <td>4.8</td>\n      <td>2524.0</td>\n    </tr>\n    <tr>\n      <th>721</th>\n      <td>tt9034290</td>\n      <td>6.6</td>\n      <td>1572</td>\n      <td>7.0</td>\n      <td>7.0</td>\n      <td>395</td>\n      <td>106</td>\n      <td>213</td>\n      <td>269</td>\n      <td>224</td>\n      <td>...</td>\n      <td>6.7</td>\n      <td>62.0</td>\n      <td>6.1</td>\n      <td>5.0</td>\n      <td>4.7</td>\n      <td>7.0</td>\n      <td>5.5</td>\n      <td>20.0</td>\n      <td>6.3</td>\n      <td>685.0</td>\n    </tr>\n    <tr>\n      <th>722</th>\n      <td>tt9037222</td>\n      <td>5.4</td>\n      <td>250</td>\n      <td>5.5</td>\n      <td>6.0</td>\n      <td>21</td>\n      <td>11</td>\n      <td>20</td>\n      <td>40</td>\n      <td>46</td>\n      <td>...</td>\n      <td>6.5</td>\n      <td>8.0</td>\n      <td>1.0</td>\n      <td>1.0</td>\n      <td>3.7</td>\n      <td>6.0</td>\n      <td>5.5</td>\n      <td>2.0</td>\n      <td>5.2</td>\n      <td>120.0</td>\n    </tr>\n    <tr>\n      <th>723</th>\n      <td>tt9354944</td>\n      <td>6.6</td>\n      <td>3674</td>\n      <td>7.4</td>\n      <td>8.0</td>\n      <td>503</td>\n      <td>687</td>\n      <td>843</td>\n      <td>914</td>\n      <td>244</td>\n      <td>...</td>\n      <td>6.0</td>\n      <td>65.0</td>\n      <td>6.1</td>\n      <td>32.0</td>\n      <td>4.6</td>\n      <td>29.0</td>\n      <td>5.7</td>\n      <td>514.0</td>\n      <td>5.6</td>\n      <td>186.0</td>\n    </tr>\n  </tbody>\n</table>\n<p>724 rows × 49 columns</p>\n</div>"
     },
     "execution_count": 12,
     "metadata": {},
     "output_type": "execute_result"
    }
   ],
   "source": [
    "ratings_df.merge(selected_ids, on='imdb_title_id') \n",
    "#merge เลขไอดีหนังที่ทำกำไร กับตารางเข้าด้วยกันโดยใช้ column 'imdb_title_id' ที่เหมือนกัน"
   ],
   "metadata": {
    "collapsed": false,
    "ExecuteTime": {
     "end_time": "2024-02-26T18:05:54.319702900Z",
     "start_time": "2024-02-26T18:05:54.064846200Z"
    }
   },
   "id": "e06f74c3ff5e6872"
  },
  {
   "cell_type": "code",
   "execution_count": 13,
   "outputs": [
    {
     "data": {
      "text/plain": "imdb_title_id                tt0369610tt0437086tt0448115tt0451279tt0475290t...\nweighted_average_vote                                                   4619.2\ntotal_votes                                                           70289736\nmean_vote                                                               4756.4\nmedian_vote                                                             4831.5\nvotes_10                                                               7927351\nvotes_9                                                                8364759\nvotes_8                                                               15592672\nvotes_7                                                               16811354\nvotes_6                                                               10510127\nvotes_5                                                                5082649\nvotes_4                                                                2333753\nvotes_3                                                                1297038\nvotes_2                                                                 823083\nvotes_1                                                                1546950\nallgenders_0age_avg_vote                                                4522.5\nallgenders_0age_votes                                                 153832.0\nallgenders_18age_avg_vote                                               4674.7\nallgenders_18age_votes                                              18558713.0\nallgenders_30age_avg_vote                                               4543.7\nallgenders_30age_votes                                              22657715.0\nallgenders_45age_avg_vote                                               4557.2\nallgenders_45age_votes                                               5651048.0\nmales_allages_avg_vote                                                  4557.7\nmales_allages_votes                                                 41327877.0\nmales_0age_avg_vote                                                     4339.2\nmales_0age_votes                                                      103887.0\nmales_18age_avg_vote                                                    4618.7\nmales_18age_votes                                                   14013357.0\nmales_30age_avg_vote                                                    4501.8\nmales_30age_votes                                                   18583645.0\nmales_45age_avg_vote                                                    4520.4\nmales_45age_votes                                                    4639255.0\nfemales_allages_avg_vote                                                4783.6\nfemales_allages_votes                                                9713399.0\nfemales_0age_avg_vote                                                   4488.2\nfemales_0age_votes                                                     29345.0\nfemales_18age_avg_vote                                                  4805.3\nfemales_18age_votes                                                  4074213.0\nfemales_30age_avg_vote                                                  4714.2\nfemales_30age_votes                                                  3668614.0\nfemales_45age_avg_vote                                                  4767.0\nfemales_45age_votes                                                   890758.0\ntop1000_voters_rating                                                   4127.3\ntop1000_voters_votes                                                  206421.0\nus_voters_rating                                                        4644.6\nus_voters_votes                                                      8466064.0\nnon_us_voters_rating                                                    4533.0\nnon_us_voters_votes                                                 28004716.0\ndtype: object"
     },
     "execution_count": 13,
     "metadata": {},
     "output_type": "execute_result"
    }
   ],
   "source": [
    "ratings_df.merge(selected_ids, on='imdb_title_id').sum()\n",
    "#ใช้ .sum() เพื่อดูรวมของผู้โหวตในกลุ่มต่างๆ"
   ],
   "metadata": {
    "collapsed": false,
    "ExecuteTime": {
     "end_time": "2024-02-26T18:05:54.368147200Z",
     "start_time": "2024-02-26T18:05:54.140870900Z"
    }
   },
   "id": "8d928eab4ffc4b8b"
  }
 ],
 "metadata": {
  "kernelspec": {
   "display_name": "Python 3",
   "language": "python",
   "name": "python3"
  },
  "language_info": {
   "codemirror_mode": {
    "name": "ipython",
    "version": 2
   },
   "file_extension": ".py",
   "mimetype": "text/x-python",
   "name": "python",
   "nbconvert_exporter": "python",
   "pygments_lexer": "ipython2",
   "version": "2.7.6"
  }
 },
 "nbformat": 4,
 "nbformat_minor": 5
}
