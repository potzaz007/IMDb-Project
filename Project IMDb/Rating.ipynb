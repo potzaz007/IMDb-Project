{
 "cells": [
  {
   "cell_type": "code",
   "execution_count": 2,
   "outputs": [],
   "source": [
    "#โจทย์คือหาประเภทหนังที่ได้รับความนิยมสูงสุด"
   ],
   "metadata": {
    "collapsed": false,
    "ExecuteTime": {
     "end_time": "2024-02-26T18:35:02.038969900Z",
     "start_time": "2024-02-26T18:35:02.034457700Z"
    }
   },
   "id": "a4c9a0ab14369404"
  },
  {
   "cell_type": "code",
   "execution_count": 3,
   "outputs": [
    {
     "data": {
      "text/plain": "      imdb_title_id                                              title  \\\n0         tt0000574                        The Story of the Kelly Gang   \n1         tt0001892                                     Den sorte drøm   \n2         tt0002101                                          Cleopatra   \n3         tt0002130                                          L'Inferno   \n4         tt0002199  From the Manger to the Cross; or, Jesus of Naz...   \n...             ...                                                ...   \n81268     tt9903716                                             Jessie   \n81269     tt9905412                                              Ottam   \n81270     tt9905462                                          Pengalila   \n81271     tt9911774                          Padmavyuhathile Abhimanyu   \n81272     tt9914286                                  Sokagin Çocuklari   \n\n                                          original_title  year date_published  \\\n0                            The Story of the Kelly Gang  1906     1906-12-26   \n1                                         Den sorte drøm  1911     1911-08-19   \n2                                              Cleopatra  1912     1912-11-13   \n3                                              L'Inferno  1911     1911-03-06   \n4      From the Manger to the Cross; or, Jesus of Naz...  1912           1913   \n...                                                  ...   ...            ...   \n81268                                             Jessie  2019     2019-03-15   \n81269                                              Ottam  2019     2019-03-08   \n81270                                          Pengalila  2019     2019-03-08   \n81271                          Padmavyuhathile Abhimanyu  2019     2019-03-08   \n81272                                  Sokagin Çocuklari  2019     2019-03-15   \n\n                           genre  duration           country   language  \\\n0        Biography, Crime, Drama        70         Australia        NaN   \n1                          Drama        53  Germany, Denmark        NaN   \n2                 Drama, History       100               USA    English   \n3      Adventure, Drama, Fantasy        68             Italy    Italian   \n4               Biography, Drama        60               USA    English   \n...                          ...       ...               ...        ...   \n81268           Horror, Thriller       106             India     Telugu   \n81269                      Drama       120             India  Malayalam   \n81270                      Drama       111             India  Malayalam   \n81271                      Drama       130             India  Malayalam   \n81272              Drama, Family        98            Turkey    Turkish   \n\n                                  director  ...  \\\n0                             Charles Tait  ...   \n1                                Urban Gad  ...   \n2                       Charles L. Gaskill  ...   \n3      Francesco Bertolini, Adolfo Padovan  ...   \n4                            Sidney Olcott  ...   \n...                                    ...  ...   \n81268                      Aswani Kumar V.  ...   \n81269                                  Zam  ...   \n81270                        T.V. Chandran  ...   \n81271                      Vineesh Aaradya  ...   \n81272                    Ahmet Faik Akinci  ...   \n\n                                                  actors  \\\n0      Elizabeth Tait, John Tait, Norman Campbell, Be...   \n1      Asta Nielsen, Valdemar Psilander, Gunnar Helse...   \n2      Helen Gardner, Pearl Sindelar, Miss Fielding, ...   \n3      Salvatore Papa, Arturo Pirovano, Giuseppe de L...   \n4      R. Henderson Bland, Percy Dyer, Gene Gauntier,...   \n...                                                  ...   \n81268  Sritha Chandana, Pavani Gangireddy, Abhinav Go...   \n81269  Nandu Anand, Roshan Ullas, Manikandan R. Achar...   \n81270  Lal, Akshara Kishor, Iniya, Narain, Renji Pani...   \n81271  Anoop Chandran, Indrans, Sona Nair, Simon Brit...   \n81272  Ahmet Faik Akinci, Belma Mamati, Metin Keçeci,...   \n\n                                             description avg_vote votes  \\\n0      True story of notorious Australian outlaw Ned ...      6.1   537   \n1      Two men of high rank are both wooing the beaut...      5.9   171   \n2      The fabled queen of Egypt's affair with Roman ...      5.2   420   \n3      Loosely adapted from Dante's Divine Comedy and...      7.0  2019   \n4      An account of the life of Jesus Christ, based ...      5.7   438   \n...                                                  ...      ...   ...   \n81268  Set in an abandoned house, the film follows a ...      7.2   219   \n81269  Set in Trivandrum, the story of Ottam unfolds ...      7.8   510   \n81270  An unusual bond between a sixty year old Dalit...      8.4   604   \n81271                                                NaN      8.4   369   \n81272                                                NaN      7.2   190   \n\n             budget  usa_gross_income worlwide_gross_income metascore  \\\n0            $ 2250               NaN                   NaN       NaN   \n1               NaN               NaN                   NaN       NaN   \n2           $ 45000               NaN                   NaN       NaN   \n3               NaN               NaN                   NaN       NaN   \n4               NaN               NaN                   NaN       NaN   \n...             ...               ...                   ...       ...   \n81268           NaN               NaN                   NaN       NaN   \n81269   INR 4000000               NaN                $ 4791       NaN   \n81270  INR 10000000               NaN                   NaN       NaN   \n81271           NaN               NaN                   NaN       NaN   \n81272           NaN               NaN                $ 2833       NaN   \n\n      reviews_from_users  reviews_from_critics  \n0                    7.0                   7.0  \n1                    4.0                   2.0  \n2                   24.0                   3.0  \n3                   28.0                  14.0  \n4                   12.0                   5.0  \n...                  ...                   ...  \n81268               21.0                   NaN  \n81269                NaN                   NaN  \n81270                NaN                   NaN  \n81271                NaN                   NaN  \n81272                NaN                   NaN  \n\n[81273 rows x 22 columns]",
      "text/html": "<div>\n<style scoped>\n    .dataframe tbody tr th:only-of-type {\n        vertical-align: middle;\n    }\n\n    .dataframe tbody tr th {\n        vertical-align: top;\n    }\n\n    .dataframe thead th {\n        text-align: right;\n    }\n</style>\n<table border=\"1\" class=\"dataframe\">\n  <thead>\n    <tr style=\"text-align: right;\">\n      <th></th>\n      <th>imdb_title_id</th>\n      <th>title</th>\n      <th>original_title</th>\n      <th>year</th>\n      <th>date_published</th>\n      <th>genre</th>\n      <th>duration</th>\n      <th>country</th>\n      <th>language</th>\n      <th>director</th>\n      <th>...</th>\n      <th>actors</th>\n      <th>description</th>\n      <th>avg_vote</th>\n      <th>votes</th>\n      <th>budget</th>\n      <th>usa_gross_income</th>\n      <th>worlwide_gross_income</th>\n      <th>metascore</th>\n      <th>reviews_from_users</th>\n      <th>reviews_from_critics</th>\n    </tr>\n  </thead>\n  <tbody>\n    <tr>\n      <th>0</th>\n      <td>tt0000574</td>\n      <td>The Story of the Kelly Gang</td>\n      <td>The Story of the Kelly Gang</td>\n      <td>1906</td>\n      <td>1906-12-26</td>\n      <td>Biography, Crime, Drama</td>\n      <td>70</td>\n      <td>Australia</td>\n      <td>NaN</td>\n      <td>Charles Tait</td>\n      <td>...</td>\n      <td>Elizabeth Tait, John Tait, Norman Campbell, Be...</td>\n      <td>True story of notorious Australian outlaw Ned ...</td>\n      <td>6.1</td>\n      <td>537</td>\n      <td>$ 2250</td>\n      <td>NaN</td>\n      <td>NaN</td>\n      <td>NaN</td>\n      <td>7.0</td>\n      <td>7.0</td>\n    </tr>\n    <tr>\n      <th>1</th>\n      <td>tt0001892</td>\n      <td>Den sorte drøm</td>\n      <td>Den sorte drøm</td>\n      <td>1911</td>\n      <td>1911-08-19</td>\n      <td>Drama</td>\n      <td>53</td>\n      <td>Germany, Denmark</td>\n      <td>NaN</td>\n      <td>Urban Gad</td>\n      <td>...</td>\n      <td>Asta Nielsen, Valdemar Psilander, Gunnar Helse...</td>\n      <td>Two men of high rank are both wooing the beaut...</td>\n      <td>5.9</td>\n      <td>171</td>\n      <td>NaN</td>\n      <td>NaN</td>\n      <td>NaN</td>\n      <td>NaN</td>\n      <td>4.0</td>\n      <td>2.0</td>\n    </tr>\n    <tr>\n      <th>2</th>\n      <td>tt0002101</td>\n      <td>Cleopatra</td>\n      <td>Cleopatra</td>\n      <td>1912</td>\n      <td>1912-11-13</td>\n      <td>Drama, History</td>\n      <td>100</td>\n      <td>USA</td>\n      <td>English</td>\n      <td>Charles L. Gaskill</td>\n      <td>...</td>\n      <td>Helen Gardner, Pearl Sindelar, Miss Fielding, ...</td>\n      <td>The fabled queen of Egypt's affair with Roman ...</td>\n      <td>5.2</td>\n      <td>420</td>\n      <td>$ 45000</td>\n      <td>NaN</td>\n      <td>NaN</td>\n      <td>NaN</td>\n      <td>24.0</td>\n      <td>3.0</td>\n    </tr>\n    <tr>\n      <th>3</th>\n      <td>tt0002130</td>\n      <td>L'Inferno</td>\n      <td>L'Inferno</td>\n      <td>1911</td>\n      <td>1911-03-06</td>\n      <td>Adventure, Drama, Fantasy</td>\n      <td>68</td>\n      <td>Italy</td>\n      <td>Italian</td>\n      <td>Francesco Bertolini, Adolfo Padovan</td>\n      <td>...</td>\n      <td>Salvatore Papa, Arturo Pirovano, Giuseppe de L...</td>\n      <td>Loosely adapted from Dante's Divine Comedy and...</td>\n      <td>7.0</td>\n      <td>2019</td>\n      <td>NaN</td>\n      <td>NaN</td>\n      <td>NaN</td>\n      <td>NaN</td>\n      <td>28.0</td>\n      <td>14.0</td>\n    </tr>\n    <tr>\n      <th>4</th>\n      <td>tt0002199</td>\n      <td>From the Manger to the Cross; or, Jesus of Naz...</td>\n      <td>From the Manger to the Cross; or, Jesus of Naz...</td>\n      <td>1912</td>\n      <td>1913</td>\n      <td>Biography, Drama</td>\n      <td>60</td>\n      <td>USA</td>\n      <td>English</td>\n      <td>Sidney Olcott</td>\n      <td>...</td>\n      <td>R. Henderson Bland, Percy Dyer, Gene Gauntier,...</td>\n      <td>An account of the life of Jesus Christ, based ...</td>\n      <td>5.7</td>\n      <td>438</td>\n      <td>NaN</td>\n      <td>NaN</td>\n      <td>NaN</td>\n      <td>NaN</td>\n      <td>12.0</td>\n      <td>5.0</td>\n    </tr>\n    <tr>\n      <th>...</th>\n      <td>...</td>\n      <td>...</td>\n      <td>...</td>\n      <td>...</td>\n      <td>...</td>\n      <td>...</td>\n      <td>...</td>\n      <td>...</td>\n      <td>...</td>\n      <td>...</td>\n      <td>...</td>\n      <td>...</td>\n      <td>...</td>\n      <td>...</td>\n      <td>...</td>\n      <td>...</td>\n      <td>...</td>\n      <td>...</td>\n      <td>...</td>\n      <td>...</td>\n      <td>...</td>\n    </tr>\n    <tr>\n      <th>81268</th>\n      <td>tt9903716</td>\n      <td>Jessie</td>\n      <td>Jessie</td>\n      <td>2019</td>\n      <td>2019-03-15</td>\n      <td>Horror, Thriller</td>\n      <td>106</td>\n      <td>India</td>\n      <td>Telugu</td>\n      <td>Aswani Kumar V.</td>\n      <td>...</td>\n      <td>Sritha Chandana, Pavani Gangireddy, Abhinav Go...</td>\n      <td>Set in an abandoned house, the film follows a ...</td>\n      <td>7.2</td>\n      <td>219</td>\n      <td>NaN</td>\n      <td>NaN</td>\n      <td>NaN</td>\n      <td>NaN</td>\n      <td>21.0</td>\n      <td>NaN</td>\n    </tr>\n    <tr>\n      <th>81269</th>\n      <td>tt9905412</td>\n      <td>Ottam</td>\n      <td>Ottam</td>\n      <td>2019</td>\n      <td>2019-03-08</td>\n      <td>Drama</td>\n      <td>120</td>\n      <td>India</td>\n      <td>Malayalam</td>\n      <td>Zam</td>\n      <td>...</td>\n      <td>Nandu Anand, Roshan Ullas, Manikandan R. Achar...</td>\n      <td>Set in Trivandrum, the story of Ottam unfolds ...</td>\n      <td>7.8</td>\n      <td>510</td>\n      <td>INR 4000000</td>\n      <td>NaN</td>\n      <td>$ 4791</td>\n      <td>NaN</td>\n      <td>NaN</td>\n      <td>NaN</td>\n    </tr>\n    <tr>\n      <th>81270</th>\n      <td>tt9905462</td>\n      <td>Pengalila</td>\n      <td>Pengalila</td>\n      <td>2019</td>\n      <td>2019-03-08</td>\n      <td>Drama</td>\n      <td>111</td>\n      <td>India</td>\n      <td>Malayalam</td>\n      <td>T.V. Chandran</td>\n      <td>...</td>\n      <td>Lal, Akshara Kishor, Iniya, Narain, Renji Pani...</td>\n      <td>An unusual bond between a sixty year old Dalit...</td>\n      <td>8.4</td>\n      <td>604</td>\n      <td>INR 10000000</td>\n      <td>NaN</td>\n      <td>NaN</td>\n      <td>NaN</td>\n      <td>NaN</td>\n      <td>NaN</td>\n    </tr>\n    <tr>\n      <th>81271</th>\n      <td>tt9911774</td>\n      <td>Padmavyuhathile Abhimanyu</td>\n      <td>Padmavyuhathile Abhimanyu</td>\n      <td>2019</td>\n      <td>2019-03-08</td>\n      <td>Drama</td>\n      <td>130</td>\n      <td>India</td>\n      <td>Malayalam</td>\n      <td>Vineesh Aaradya</td>\n      <td>...</td>\n      <td>Anoop Chandran, Indrans, Sona Nair, Simon Brit...</td>\n      <td>NaN</td>\n      <td>8.4</td>\n      <td>369</td>\n      <td>NaN</td>\n      <td>NaN</td>\n      <td>NaN</td>\n      <td>NaN</td>\n      <td>NaN</td>\n      <td>NaN</td>\n    </tr>\n    <tr>\n      <th>81272</th>\n      <td>tt9914286</td>\n      <td>Sokagin Çocuklari</td>\n      <td>Sokagin Çocuklari</td>\n      <td>2019</td>\n      <td>2019-03-15</td>\n      <td>Drama, Family</td>\n      <td>98</td>\n      <td>Turkey</td>\n      <td>Turkish</td>\n      <td>Ahmet Faik Akinci</td>\n      <td>...</td>\n      <td>Ahmet Faik Akinci, Belma Mamati, Metin Keçeci,...</td>\n      <td>NaN</td>\n      <td>7.2</td>\n      <td>190</td>\n      <td>NaN</td>\n      <td>NaN</td>\n      <td>$ 2833</td>\n      <td>NaN</td>\n      <td>NaN</td>\n      <td>NaN</td>\n    </tr>\n  </tbody>\n</table>\n<p>81273 rows × 22 columns</p>\n</div>"
     },
     "execution_count": 3,
     "metadata": {},
     "output_type": "execute_result"
    }
   ],
   "source": [
    "import pandas as pd     \n",
    "movies_df = pd.read_csv('IMDb movies .csv')\n",
    "movies_df"
   ],
   "metadata": {
    "collapsed": false,
    "ExecuteTime": {
     "end_time": "2024-02-26T18:35:03.010382700Z",
     "start_time": "2024-02-26T18:35:02.043967200Z"
    }
   },
   "id": "347ef4eddcfca63d"
  },
  {
   "cell_type": "code",
   "execution_count": 4,
   "outputs": [],
   "source": [
    "#ดูข้อมูลจำนวนและค่าเฉลี่ยนต่างๆ"
   ],
   "metadata": {
    "collapsed": false,
    "ExecuteTime": {
     "end_time": "2024-02-26T18:35:03.024384Z",
     "start_time": "2024-02-26T18:35:03.009377Z"
    }
   },
   "id": "aca8056e7d2389b0"
  },
  {
   "cell_type": "code",
   "execution_count": 5,
   "outputs": [
    {
     "data": {
      "text/plain": "               year      duration      avg_vote         votes     metascore  \\\ncount  81273.000000  81273.000000  81273.000000  8.127300e+04  12722.000000   \nmean    1993.007210    100.565981      5.926587  9.421771e+03     55.762695   \nstd       23.992284     25.320189      1.243315  5.220245e+04     17.757453   \nmin     1906.000000     40.000000      1.000000  9.900000e+01      1.000000   \n25%     1979.000000     88.000000      5.200000  2.060000e+02     43.000000   \n50%     2002.000000     96.000000      6.100000  4.950000e+02     56.000000   \n75%     2012.000000    108.000000      6.800000  1.865000e+03     69.000000   \nmax     2019.000000   3360.000000     10.000000  2.159628e+06    100.000000   \n\n       reviews_from_users  reviews_from_critics  \ncount        74196.000000          70286.000000  \nmean            43.753194             27.992758  \nstd            159.903568             58.708764  \nmin              1.000000              1.000000  \n25%              4.000000              3.000000  \n50%              9.000000              8.000000  \n75%             26.000000             24.000000  \nmax           8302.000000            987.000000  ",
      "text/html": "<div>\n<style scoped>\n    .dataframe tbody tr th:only-of-type {\n        vertical-align: middle;\n    }\n\n    .dataframe tbody tr th {\n        vertical-align: top;\n    }\n\n    .dataframe thead th {\n        text-align: right;\n    }\n</style>\n<table border=\"1\" class=\"dataframe\">\n  <thead>\n    <tr style=\"text-align: right;\">\n      <th></th>\n      <th>year</th>\n      <th>duration</th>\n      <th>avg_vote</th>\n      <th>votes</th>\n      <th>metascore</th>\n      <th>reviews_from_users</th>\n      <th>reviews_from_critics</th>\n    </tr>\n  </thead>\n  <tbody>\n    <tr>\n      <th>count</th>\n      <td>81273.000000</td>\n      <td>81273.000000</td>\n      <td>81273.000000</td>\n      <td>8.127300e+04</td>\n      <td>12722.000000</td>\n      <td>74196.000000</td>\n      <td>70286.000000</td>\n    </tr>\n    <tr>\n      <th>mean</th>\n      <td>1993.007210</td>\n      <td>100.565981</td>\n      <td>5.926587</td>\n      <td>9.421771e+03</td>\n      <td>55.762695</td>\n      <td>43.753194</td>\n      <td>27.992758</td>\n    </tr>\n    <tr>\n      <th>std</th>\n      <td>23.992284</td>\n      <td>25.320189</td>\n      <td>1.243315</td>\n      <td>5.220245e+04</td>\n      <td>17.757453</td>\n      <td>159.903568</td>\n      <td>58.708764</td>\n    </tr>\n    <tr>\n      <th>min</th>\n      <td>1906.000000</td>\n      <td>40.000000</td>\n      <td>1.000000</td>\n      <td>9.900000e+01</td>\n      <td>1.000000</td>\n      <td>1.000000</td>\n      <td>1.000000</td>\n    </tr>\n    <tr>\n      <th>25%</th>\n      <td>1979.000000</td>\n      <td>88.000000</td>\n      <td>5.200000</td>\n      <td>2.060000e+02</td>\n      <td>43.000000</td>\n      <td>4.000000</td>\n      <td>3.000000</td>\n    </tr>\n    <tr>\n      <th>50%</th>\n      <td>2002.000000</td>\n      <td>96.000000</td>\n      <td>6.100000</td>\n      <td>4.950000e+02</td>\n      <td>56.000000</td>\n      <td>9.000000</td>\n      <td>8.000000</td>\n    </tr>\n    <tr>\n      <th>75%</th>\n      <td>2012.000000</td>\n      <td>108.000000</td>\n      <td>6.800000</td>\n      <td>1.865000e+03</td>\n      <td>69.000000</td>\n      <td>26.000000</td>\n      <td>24.000000</td>\n    </tr>\n    <tr>\n      <th>max</th>\n      <td>2019.000000</td>\n      <td>3360.000000</td>\n      <td>10.000000</td>\n      <td>2.159628e+06</td>\n      <td>100.000000</td>\n      <td>8302.000000</td>\n      <td>987.000000</td>\n    </tr>\n  </tbody>\n</table>\n</div>"
     },
     "execution_count": 5,
     "metadata": {},
     "output_type": "execute_result"
    }
   ],
   "source": [
    "movies_df.describe()"
   ],
   "metadata": {
    "collapsed": false,
    "ExecuteTime": {
     "end_time": "2024-02-26T18:35:03.129564500Z",
     "start_time": "2024-02-26T18:35:03.013381200Z"
    }
   },
   "id": "a3e99ca53a7310e2"
  },
  {
   "cell_type": "code",
   "execution_count": 6,
   "outputs": [],
   "source": [
    "#ทำการแยกขประเภทหนังโดยใช้คำสั่ง split(', ') แล้วแยกข้อมูลออกจาก list โดยใช้คำสั่ง .explore() จากใช้คำสั่ง .unique() เพื่อนไม่เอาข้อมูลซ้ำ\n",
    "#เพื่อดูจำนวนประเภทของหนัง\n"
   ],
   "metadata": {
    "collapsed": false,
    "ExecuteTime": {
     "end_time": "2024-02-26T18:35:03.130566900Z",
     "start_time": "2024-02-26T18:35:03.077623900Z"
    }
   },
   "id": "bbfd7318dc57a71"
  },
  {
   "cell_type": "code",
   "execution_count": 14,
   "outputs": [
    {
     "data": {
      "text/plain": "array(['Biography', 'Crime', 'Drama', 'History', 'Adventure', 'Fantasy',\n       'Romance', 'War', 'Mystery', 'Horror', 'Western', 'Comedy',\n       'Family', 'Action', 'Sci-Fi', 'Thriller', 'Sport', 'Animation',\n       'Musical', 'Music', 'Film-Noir', 'Adult', 'Documentary',\n       'Reality-TV', 'Game-Show', 'News'], dtype=object)"
     },
     "execution_count": 14,
     "metadata": {},
     "output_type": "execute_result"
    }
   ],
   "source": [
    "movies_df['genre'].apply(lambda m: m.split(', ')).explode().unique()\n"
   ],
   "metadata": {
    "collapsed": false,
    "ExecuteTime": {
     "end_time": "2024-02-26T18:35:23.935823100Z",
     "start_time": "2024-02-26T18:35:23.725502200Z"
    }
   },
   "id": "ad96be4be5c2368f"
  },
  {
   "cell_type": "code",
   "execution_count": 8,
   "outputs": [],
   "source": [
    "#สร้างตัวแปรมาเก็บข้อมูล"
   ],
   "metadata": {
    "collapsed": false,
    "ExecuteTime": {
     "end_time": "2024-02-26T18:35:03.308104400Z",
     "start_time": "2024-02-26T18:35:03.205568Z"
    }
   },
   "id": "e2336286fca3c1a4"
  },
  {
   "cell_type": "code",
   "execution_count": 15,
   "outputs": [],
   "source": [
    "movies_df['genre'] = movies_df['genre'].apply(lambda m: m.split(', '))\n"
   ],
   "metadata": {
    "collapsed": false,
    "ExecuteTime": {
     "end_time": "2024-02-26T18:35:37.785941900Z",
     "start_time": "2024-02-26T18:35:37.631006200Z"
    }
   },
   "id": "4c5e3635d89603f1"
  },
  {
   "cell_type": "code",
   "execution_count": 10,
   "outputs": [],
   "source": [
    "#แยกข้อมูลออกจาก list"
   ],
   "metadata": {
    "collapsed": false,
    "ExecuteTime": {
     "end_time": "2024-02-26T18:35:03.342106400Z",
     "start_time": "2024-02-26T18:35:03.278028800Z"
    }
   },
   "id": "6e13d9f6616dd55d"
  },
  {
   "cell_type": "code",
   "execution_count": 11,
   "outputs": [
    {
     "data": {
      "text/plain": "      imdb_title_id                        title               original_title  \\\n0         tt0000574  The Story of the Kelly Gang  The Story of the Kelly Gang   \n0         tt0000574  The Story of the Kelly Gang  The Story of the Kelly Gang   \n0         tt0000574  The Story of the Kelly Gang  The Story of the Kelly Gang   \n1         tt0001892               Den sorte drøm               Den sorte drøm   \n2         tt0002101                    Cleopatra                    Cleopatra   \n...             ...                          ...                          ...   \n81269     tt9905412                        Ottam                        Ottam   \n81270     tt9905462                    Pengalila                    Pengalila   \n81271     tt9911774    Padmavyuhathile Abhimanyu    Padmavyuhathile Abhimanyu   \n81272     tt9914286            Sokagin Çocuklari            Sokagin Çocuklari   \n81272     tt9914286            Sokagin Çocuklari            Sokagin Çocuklari   \n\n       year date_published      genre  duration           country   language  \\\n0      1906     1906-12-26  Biography        70         Australia        NaN   \n0      1906     1906-12-26      Crime        70         Australia        NaN   \n0      1906     1906-12-26      Drama        70         Australia        NaN   \n1      1911     1911-08-19      Drama        53  Germany, Denmark        NaN   \n2      1912     1912-11-13      Drama       100               USA    English   \n...     ...            ...        ...       ...               ...        ...   \n81269  2019     2019-03-08      Drama       120             India  Malayalam   \n81270  2019     2019-03-08      Drama       111             India  Malayalam   \n81271  2019     2019-03-08      Drama       130             India  Malayalam   \n81272  2019     2019-03-15      Drama        98            Turkey    Turkish   \n81272  2019     2019-03-15     Family        98            Turkey    Turkish   \n\n                 director  ...  \\\n0            Charles Tait  ...   \n0            Charles Tait  ...   \n0            Charles Tait  ...   \n1               Urban Gad  ...   \n2      Charles L. Gaskill  ...   \n...                   ...  ...   \n81269                 Zam  ...   \n81270       T.V. Chandran  ...   \n81271     Vineesh Aaradya  ...   \n81272   Ahmet Faik Akinci  ...   \n81272   Ahmet Faik Akinci  ...   \n\n                                                  actors  \\\n0      Elizabeth Tait, John Tait, Norman Campbell, Be...   \n0      Elizabeth Tait, John Tait, Norman Campbell, Be...   \n0      Elizabeth Tait, John Tait, Norman Campbell, Be...   \n1      Asta Nielsen, Valdemar Psilander, Gunnar Helse...   \n2      Helen Gardner, Pearl Sindelar, Miss Fielding, ...   \n...                                                  ...   \n81269  Nandu Anand, Roshan Ullas, Manikandan R. Achar...   \n81270  Lal, Akshara Kishor, Iniya, Narain, Renji Pani...   \n81271  Anoop Chandran, Indrans, Sona Nair, Simon Brit...   \n81272  Ahmet Faik Akinci, Belma Mamati, Metin Keçeci,...   \n81272  Ahmet Faik Akinci, Belma Mamati, Metin Keçeci,...   \n\n                                             description avg_vote votes  \\\n0      True story of notorious Australian outlaw Ned ...      6.1   537   \n0      True story of notorious Australian outlaw Ned ...      6.1   537   \n0      True story of notorious Australian outlaw Ned ...      6.1   537   \n1      Two men of high rank are both wooing the beaut...      5.9   171   \n2      The fabled queen of Egypt's affair with Roman ...      5.2   420   \n...                                                  ...      ...   ...   \n81269  Set in Trivandrum, the story of Ottam unfolds ...      7.8   510   \n81270  An unusual bond between a sixty year old Dalit...      8.4   604   \n81271                                                NaN      8.4   369   \n81272                                                NaN      7.2   190   \n81272                                                NaN      7.2   190   \n\n             budget  usa_gross_income worlwide_gross_income metascore  \\\n0            $ 2250               NaN                   NaN       NaN   \n0            $ 2250               NaN                   NaN       NaN   \n0            $ 2250               NaN                   NaN       NaN   \n1               NaN               NaN                   NaN       NaN   \n2           $ 45000               NaN                   NaN       NaN   \n...             ...               ...                   ...       ...   \n81269   INR 4000000               NaN                $ 4791       NaN   \n81270  INR 10000000               NaN                   NaN       NaN   \n81271           NaN               NaN                   NaN       NaN   \n81272           NaN               NaN                $ 2833       NaN   \n81272           NaN               NaN                $ 2833       NaN   \n\n      reviews_from_users  reviews_from_critics  \n0                    7.0                   7.0  \n0                    7.0                   7.0  \n0                    7.0                   7.0  \n1                    4.0                   2.0  \n2                   24.0                   3.0  \n...                  ...                   ...  \n81269                NaN                   NaN  \n81270                NaN                   NaN  \n81271                NaN                   NaN  \n81272                NaN                   NaN  \n81272                NaN                   NaN  \n\n[166221 rows x 22 columns]",
      "text/html": "<div>\n<style scoped>\n    .dataframe tbody tr th:only-of-type {\n        vertical-align: middle;\n    }\n\n    .dataframe tbody tr th {\n        vertical-align: top;\n    }\n\n    .dataframe thead th {\n        text-align: right;\n    }\n</style>\n<table border=\"1\" class=\"dataframe\">\n  <thead>\n    <tr style=\"text-align: right;\">\n      <th></th>\n      <th>imdb_title_id</th>\n      <th>title</th>\n      <th>original_title</th>\n      <th>year</th>\n      <th>date_published</th>\n      <th>genre</th>\n      <th>duration</th>\n      <th>country</th>\n      <th>language</th>\n      <th>director</th>\n      <th>...</th>\n      <th>actors</th>\n      <th>description</th>\n      <th>avg_vote</th>\n      <th>votes</th>\n      <th>budget</th>\n      <th>usa_gross_income</th>\n      <th>worlwide_gross_income</th>\n      <th>metascore</th>\n      <th>reviews_from_users</th>\n      <th>reviews_from_critics</th>\n    </tr>\n  </thead>\n  <tbody>\n    <tr>\n      <th>0</th>\n      <td>tt0000574</td>\n      <td>The Story of the Kelly Gang</td>\n      <td>The Story of the Kelly Gang</td>\n      <td>1906</td>\n      <td>1906-12-26</td>\n      <td>Biography</td>\n      <td>70</td>\n      <td>Australia</td>\n      <td>NaN</td>\n      <td>Charles Tait</td>\n      <td>...</td>\n      <td>Elizabeth Tait, John Tait, Norman Campbell, Be...</td>\n      <td>True story of notorious Australian outlaw Ned ...</td>\n      <td>6.1</td>\n      <td>537</td>\n      <td>$ 2250</td>\n      <td>NaN</td>\n      <td>NaN</td>\n      <td>NaN</td>\n      <td>7.0</td>\n      <td>7.0</td>\n    </tr>\n    <tr>\n      <th>0</th>\n      <td>tt0000574</td>\n      <td>The Story of the Kelly Gang</td>\n      <td>The Story of the Kelly Gang</td>\n      <td>1906</td>\n      <td>1906-12-26</td>\n      <td>Crime</td>\n      <td>70</td>\n      <td>Australia</td>\n      <td>NaN</td>\n      <td>Charles Tait</td>\n      <td>...</td>\n      <td>Elizabeth Tait, John Tait, Norman Campbell, Be...</td>\n      <td>True story of notorious Australian outlaw Ned ...</td>\n      <td>6.1</td>\n      <td>537</td>\n      <td>$ 2250</td>\n      <td>NaN</td>\n      <td>NaN</td>\n      <td>NaN</td>\n      <td>7.0</td>\n      <td>7.0</td>\n    </tr>\n    <tr>\n      <th>0</th>\n      <td>tt0000574</td>\n      <td>The Story of the Kelly Gang</td>\n      <td>The Story of the Kelly Gang</td>\n      <td>1906</td>\n      <td>1906-12-26</td>\n      <td>Drama</td>\n      <td>70</td>\n      <td>Australia</td>\n      <td>NaN</td>\n      <td>Charles Tait</td>\n      <td>...</td>\n      <td>Elizabeth Tait, John Tait, Norman Campbell, Be...</td>\n      <td>True story of notorious Australian outlaw Ned ...</td>\n      <td>6.1</td>\n      <td>537</td>\n      <td>$ 2250</td>\n      <td>NaN</td>\n      <td>NaN</td>\n      <td>NaN</td>\n      <td>7.0</td>\n      <td>7.0</td>\n    </tr>\n    <tr>\n      <th>1</th>\n      <td>tt0001892</td>\n      <td>Den sorte drøm</td>\n      <td>Den sorte drøm</td>\n      <td>1911</td>\n      <td>1911-08-19</td>\n      <td>Drama</td>\n      <td>53</td>\n      <td>Germany, Denmark</td>\n      <td>NaN</td>\n      <td>Urban Gad</td>\n      <td>...</td>\n      <td>Asta Nielsen, Valdemar Psilander, Gunnar Helse...</td>\n      <td>Two men of high rank are both wooing the beaut...</td>\n      <td>5.9</td>\n      <td>171</td>\n      <td>NaN</td>\n      <td>NaN</td>\n      <td>NaN</td>\n      <td>NaN</td>\n      <td>4.0</td>\n      <td>2.0</td>\n    </tr>\n    <tr>\n      <th>2</th>\n      <td>tt0002101</td>\n      <td>Cleopatra</td>\n      <td>Cleopatra</td>\n      <td>1912</td>\n      <td>1912-11-13</td>\n      <td>Drama</td>\n      <td>100</td>\n      <td>USA</td>\n      <td>English</td>\n      <td>Charles L. Gaskill</td>\n      <td>...</td>\n      <td>Helen Gardner, Pearl Sindelar, Miss Fielding, ...</td>\n      <td>The fabled queen of Egypt's affair with Roman ...</td>\n      <td>5.2</td>\n      <td>420</td>\n      <td>$ 45000</td>\n      <td>NaN</td>\n      <td>NaN</td>\n      <td>NaN</td>\n      <td>24.0</td>\n      <td>3.0</td>\n    </tr>\n    <tr>\n      <th>...</th>\n      <td>...</td>\n      <td>...</td>\n      <td>...</td>\n      <td>...</td>\n      <td>...</td>\n      <td>...</td>\n      <td>...</td>\n      <td>...</td>\n      <td>...</td>\n      <td>...</td>\n      <td>...</td>\n      <td>...</td>\n      <td>...</td>\n      <td>...</td>\n      <td>...</td>\n      <td>...</td>\n      <td>...</td>\n      <td>...</td>\n      <td>...</td>\n      <td>...</td>\n      <td>...</td>\n    </tr>\n    <tr>\n      <th>81269</th>\n      <td>tt9905412</td>\n      <td>Ottam</td>\n      <td>Ottam</td>\n      <td>2019</td>\n      <td>2019-03-08</td>\n      <td>Drama</td>\n      <td>120</td>\n      <td>India</td>\n      <td>Malayalam</td>\n      <td>Zam</td>\n      <td>...</td>\n      <td>Nandu Anand, Roshan Ullas, Manikandan R. Achar...</td>\n      <td>Set in Trivandrum, the story of Ottam unfolds ...</td>\n      <td>7.8</td>\n      <td>510</td>\n      <td>INR 4000000</td>\n      <td>NaN</td>\n      <td>$ 4791</td>\n      <td>NaN</td>\n      <td>NaN</td>\n      <td>NaN</td>\n    </tr>\n    <tr>\n      <th>81270</th>\n      <td>tt9905462</td>\n      <td>Pengalila</td>\n      <td>Pengalila</td>\n      <td>2019</td>\n      <td>2019-03-08</td>\n      <td>Drama</td>\n      <td>111</td>\n      <td>India</td>\n      <td>Malayalam</td>\n      <td>T.V. Chandran</td>\n      <td>...</td>\n      <td>Lal, Akshara Kishor, Iniya, Narain, Renji Pani...</td>\n      <td>An unusual bond between a sixty year old Dalit...</td>\n      <td>8.4</td>\n      <td>604</td>\n      <td>INR 10000000</td>\n      <td>NaN</td>\n      <td>NaN</td>\n      <td>NaN</td>\n      <td>NaN</td>\n      <td>NaN</td>\n    </tr>\n    <tr>\n      <th>81271</th>\n      <td>tt9911774</td>\n      <td>Padmavyuhathile Abhimanyu</td>\n      <td>Padmavyuhathile Abhimanyu</td>\n      <td>2019</td>\n      <td>2019-03-08</td>\n      <td>Drama</td>\n      <td>130</td>\n      <td>India</td>\n      <td>Malayalam</td>\n      <td>Vineesh Aaradya</td>\n      <td>...</td>\n      <td>Anoop Chandran, Indrans, Sona Nair, Simon Brit...</td>\n      <td>NaN</td>\n      <td>8.4</td>\n      <td>369</td>\n      <td>NaN</td>\n      <td>NaN</td>\n      <td>NaN</td>\n      <td>NaN</td>\n      <td>NaN</td>\n      <td>NaN</td>\n    </tr>\n    <tr>\n      <th>81272</th>\n      <td>tt9914286</td>\n      <td>Sokagin Çocuklari</td>\n      <td>Sokagin Çocuklari</td>\n      <td>2019</td>\n      <td>2019-03-15</td>\n      <td>Drama</td>\n      <td>98</td>\n      <td>Turkey</td>\n      <td>Turkish</td>\n      <td>Ahmet Faik Akinci</td>\n      <td>...</td>\n      <td>Ahmet Faik Akinci, Belma Mamati, Metin Keçeci,...</td>\n      <td>NaN</td>\n      <td>7.2</td>\n      <td>190</td>\n      <td>NaN</td>\n      <td>NaN</td>\n      <td>$ 2833</td>\n      <td>NaN</td>\n      <td>NaN</td>\n      <td>NaN</td>\n    </tr>\n    <tr>\n      <th>81272</th>\n      <td>tt9914286</td>\n      <td>Sokagin Çocuklari</td>\n      <td>Sokagin Çocuklari</td>\n      <td>2019</td>\n      <td>2019-03-15</td>\n      <td>Family</td>\n      <td>98</td>\n      <td>Turkey</td>\n      <td>Turkish</td>\n      <td>Ahmet Faik Akinci</td>\n      <td>...</td>\n      <td>Ahmet Faik Akinci, Belma Mamati, Metin Keçeci,...</td>\n      <td>NaN</td>\n      <td>7.2</td>\n      <td>190</td>\n      <td>NaN</td>\n      <td>NaN</td>\n      <td>$ 2833</td>\n      <td>NaN</td>\n      <td>NaN</td>\n      <td>NaN</td>\n    </tr>\n  </tbody>\n</table>\n<p>166221 rows × 22 columns</p>\n</div>"
     },
     "execution_count": 11,
     "metadata": {},
     "output_type": "execute_result"
    }
   ],
   "source": [
    "movies_df = movies_df.explode('genre')\n",
    "movies_df"
   ],
   "metadata": {
    "collapsed": false,
    "ExecuteTime": {
     "end_time": "2024-02-26T18:35:03.735937600Z",
     "start_time": "2024-02-26T18:35:03.283592400Z"
    }
   },
   "id": "4833ef202e912e88"
  },
  {
   "cell_type": "code",
   "execution_count": 12,
   "outputs": [],
   "source": [
    "#รวมตารางและผลโหวดเข้าด้วยกัน จะพบว่าหนังประเภท drama มีผลโหวตสูงสุด"
   ],
   "metadata": {
    "collapsed": false,
    "ExecuteTime": {
     "end_time": "2024-02-26T18:35:03.751087700Z",
     "start_time": "2024-02-26T18:35:03.738081200Z"
    }
   },
   "id": "c4adf0786431c170"
  },
  {
   "cell_type": "code",
   "execution_count": 13,
   "outputs": [
    {
     "data": {
      "text/plain": "genre\nDrama        383272842\nAction       238759511\nComedy       229184548\nAdventure    201525136\nCrime        141155839\nThriller     136984572\nSci-Fi       101157352\nRomance       98810178\nFantasy       77920267\nMystery       72603361\nName: votes, dtype: int64"
     },
     "execution_count": 13,
     "metadata": {},
     "output_type": "execute_result"
    }
   ],
   "source": [
    "movies_df.groupby('genre')['votes'].sum().nlargest(10)"
   ],
   "metadata": {
    "collapsed": false,
    "ExecuteTime": {
     "end_time": "2024-02-26T18:35:03.765995500Z",
     "start_time": "2024-02-26T18:35:03.743085400Z"
    }
   },
   "id": "ca24ce9ee4db4b78"
  }
 ],
 "metadata": {
  "kernelspec": {
   "display_name": "Python 3",
   "language": "python",
   "name": "python3"
  },
  "language_info": {
   "codemirror_mode": {
    "name": "ipython",
    "version": 2
   },
   "file_extension": ".py",
   "mimetype": "text/x-python",
   "name": "python",
   "nbconvert_exporter": "python",
   "pygments_lexer": "ipython2",
   "version": "2.7.6"
  }
 },
 "nbformat": 4,
 "nbformat_minor": 5
}
